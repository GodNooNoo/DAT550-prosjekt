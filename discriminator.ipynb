{
 "cells": [
  {
   "cell_type": "markdown",
   "metadata": {},
   "source": [
    "# Deepfake detection using GAN"
   ]
  },
  {
   "cell_type": "code",
   "execution_count": 88,
   "metadata": {},
   "outputs": [],
   "source": [
    "# Imports\n",
    "import numpy as np\n",
    "import torch\n",
    "import torchvision as tv\n",
    "import math\n",
    "\n",
    "# Plotting\n",
    "import seaborn as sns\n",
    "import matplotlib\n",
    "from tqdm import tqdm"
   ]
  },
  {
   "cell_type": "code",
   "execution_count": 89,
   "metadata": {},
   "outputs": [],
   "source": [
    "# Configure plots\n",
    "matplotlib.style.use('seaborn-poster')  # Poster = big, paper = small\n",
    "matplotlib.style.use('ggplot')\n",
    "matplotlib.rcParams['font.family'] = 'serif'\n",
    "sns.set_context('poster')   # Poster = big, paper = small\n"
   ]
  },
  {
   "cell_type": "markdown",
   "metadata": {},
   "source": [
    "Controlling seeds to control reproducability."
   ]
  },
  {
   "cell_type": "code",
   "execution_count": 90,
   "metadata": {},
   "outputs": [],
   "source": [
    "# Batch size during training\n",
    "batch_size = 64\n",
    "\n",
    "# Spatial size of training images. All images will be resized to this\n",
    "#   size using a transformer.\n",
    "image_size = 64\n",
    "\n",
    "# Number of channels in the training images. For color images this is 3\n",
    "nc = 3\n",
    "\n",
    "# Size of z latent vector (i.e. size of generator input)\n",
    "nz = 100\n",
    "\n",
    "# Size of feature maps in generator\n",
    "ngf = 64\n",
    "\n",
    "# Size of feature maps in discriminator\n",
    "ndf = 64\n",
    "\n",
    "# Number of training epochs\n",
    "num_epochs = 10\n",
    "\n",
    "# Learning rate for optimizers\n",
    "lr = 0.0002\n",
    "\n",
    "# Beta1 hyperparam for Adam optimizers\n",
    "beta1 = 0.5"
   ]
  },
  {
   "cell_type": "code",
   "execution_count": 91,
   "metadata": {},
   "outputs": [],
   "source": [
    "# Paths\n",
    "train_set = \"train/\"\n",
    "test_set = \"test_set/\""
   ]
  },
  {
   "cell_type": "code",
   "execution_count": 92,
   "metadata": {},
   "outputs": [],
   "source": [
    "# Load the real part of the train dataset\n",
    "train_set_real = tv.datasets.ImageFolder(\n",
    "    root=train_set + \"real\",\n",
    "    transform=tv.transforms.Compose(\n",
    "        [\n",
    "            tv.transforms.Resize(image_size),\n",
    "            tv.transforms.CenterCrop(image_size),\n",
    "            tv.transforms.ToTensor(),\n",
    "            tv.transforms.Normalize((0.5, 0.5, 0.5), (0.5, 0.5, 0.5)),\n",
    "        ]\n",
    "    ),\n",
    ")\n",
    "\n",
    "# Use dataloader to get batches\n",
    "dataloader_real = torch.utils.data.DataLoader(\n",
    "    train_set_real, batch_size=batch_size, shuffle=True\n",
    ")\n",
    "\n",
    "# Load the fake part of the train dataset\n",
    "train_set_fake = tv.datasets.ImageFolder(\n",
    "    root=train_set + \"fake\",\n",
    "    transform=tv.transforms.Compose(\n",
    "        [\n",
    "            tv.transforms.Resize(image_size),\n",
    "            tv.transforms.CenterCrop(image_size),\n",
    "            tv.transforms.ToTensor(),\n",
    "            tv.transforms.Normalize((0.5, 0.5, 0.5), (0.5, 0.5, 0.5)),\n",
    "        ]\n",
    "    ),\n",
    ")\n",
    "\n",
    "# Use dataloader to get batches\n",
    "dataloader_fake = torch.utils.data.DataLoader(\n",
    "    train_set_fake, batch_size=batch_size, shuffle=True\n",
    ")"
   ]
  },
  {
   "cell_type": "code",
   "execution_count": 93,
   "metadata": {},
   "outputs": [],
   "source": [
    "class Discriminator(torch.nn.Module):\n",
    "    def __init__(self):\n",
    "        super(Discriminator, self).__init__()\n",
    "        self.main = torch.nn.Sequential(\n",
    "            # input is (nc) x 64 x 64\n",
    "            torch.nn.Conv2d(nc, ndf, 4, 2, 1, bias=False),\n",
    "            torch.nn.LeakyReLU(0.2, inplace=True),\n",
    "            # state size. (ndf) x 32 x 32\n",
    "            torch.nn.Conv2d(ndf, ndf * 2, 4, 2, 1, bias=False),\n",
    "            torch.nn.BatchNorm2d(ndf * 2),\n",
    "            torch.nn.LeakyReLU(0.2, inplace=True),\n",
    "            # state size. (ndf*2) x 16 x 16\n",
    "            torch.nn.Conv2d(ndf * 2, ndf * 4, 4, 2, 1, bias=False),\n",
    "            torch.nn.BatchNorm2d(ndf * 4),\n",
    "            torch.nn.LeakyReLU(0.2, inplace=True),\n",
    "            # state size. (ndf*4) x 8 x 8\n",
    "            torch.nn.Conv2d(ndf * 4, ndf * 8, 4, 2, 1, bias=False),\n",
    "            torch.nn.BatchNorm2d(ndf * 8),\n",
    "            torch.nn.LeakyReLU(0.2, inplace=True),\n",
    "            # state size. (ndf*8) x 4 x 4\n",
    "            torch.nn.Conv2d(ndf * 8, 1, 4, 1, 0, bias=False),\n",
    "            torch.nn.Sigmoid()\n",
    "        )\n",
    "\n",
    "    def forward(self, input):\n",
    "        return self.main(input)"
   ]
  },
  {
   "cell_type": "code",
   "execution_count": 94,
   "metadata": {},
   "outputs": [],
   "source": [
    "# Custom weights initialization called on the discriminator\n",
    "def init_weights(m):\n",
    "    classname = m.__class__.__name__\n",
    "    if classname.find('Conv') != -1:\n",
    "        torch.nn.init.normal_(m.weight.data, 0.0, 0.02)\n",
    "    elif classname.find('BatchNorm') != -1:\n",
    "        torch.nn.init.normal_(m.weight.data, 1.0, 0.02)\n",
    "        torch.nn.init.constant_(m.bias.data, 0)"
   ]
  },
  {
   "cell_type": "code",
   "execution_count": 95,
   "metadata": {},
   "outputs": [
    {
     "data": {
      "text/plain": [
       "Discriminator(\n",
       "  (main): Sequential(\n",
       "    (0): Conv2d(3, 64, kernel_size=(4, 4), stride=(2, 2), padding=(1, 1), bias=False)\n",
       "    (1): LeakyReLU(negative_slope=0.2, inplace=True)\n",
       "    (2): Conv2d(64, 128, kernel_size=(4, 4), stride=(2, 2), padding=(1, 1), bias=False)\n",
       "    (3): BatchNorm2d(128, eps=1e-05, momentum=0.1, affine=True, track_running_stats=True)\n",
       "    (4): LeakyReLU(negative_slope=0.2, inplace=True)\n",
       "    (5): Conv2d(128, 256, kernel_size=(4, 4), stride=(2, 2), padding=(1, 1), bias=False)\n",
       "    (6): BatchNorm2d(256, eps=1e-05, momentum=0.1, affine=True, track_running_stats=True)\n",
       "    (7): LeakyReLU(negative_slope=0.2, inplace=True)\n",
       "    (8): Conv2d(256, 512, kernel_size=(4, 4), stride=(2, 2), padding=(1, 1), bias=False)\n",
       "    (9): BatchNorm2d(512, eps=1e-05, momentum=0.1, affine=True, track_running_stats=True)\n",
       "    (10): LeakyReLU(negative_slope=0.2, inplace=True)\n",
       "    (11): Conv2d(512, 1, kernel_size=(4, 4), stride=(1, 1), bias=False)\n",
       "    (12): Sigmoid()\n",
       "  )\n",
       ")"
      ]
     },
     "execution_count": 95,
     "metadata": {},
     "output_type": "execute_result"
    }
   ],
   "source": [
    "# Create the Discriminator\n",
    "network = Discriminator()\n",
    "\n",
    "# Apply weights\n",
    "network.apply(init_weights)"
   ]
  },
  {
   "cell_type": "code",
   "execution_count": 96,
   "metadata": {},
   "outputs": [],
   "source": [
    "def train_on_batch(batch, label):\n",
    "\t# Format batch\n",
    "\tbatch = data[0].to()\n",
    "\tlabels = torch.full((batch.size(0),), label, dtype=torch.float)\n",
    "\n",
    "\t# Forward pass batch\n",
    "\toutput = network(batch).view(-1)\n",
    "\n",
    "\t# Calculate loss on batch\n",
    "\tloss = loss_fn(output, labels)\n",
    "\n",
    "\t# Backwards pass batch\n",
    "\tloss.backward()\n",
    "\treturn loss"
   ]
  },
  {
   "cell_type": "code",
   "execution_count": 97,
   "metadata": {},
   "outputs": [
    {
     "name": "stderr",
     "output_type": "stream",
     "text": [
      "229it [14:17,  3.74s/it]0:00<?, ?it/s]\n",
      "71it [02:57,  2.50s/it]14:17<2:08:37, 857.54s/it]\n",
      " 10%|█         | 1/10 [17:14<2:35:13, 1034.82s/it]\n"
     ]
    },
    {
     "ename": "KeyboardInterrupt",
     "evalue": "",
     "output_type": "error",
     "traceback": [
      "\u001b[1;31m---------------------------------------------------------------------------\u001b[0m",
      "\u001b[1;31mKeyboardInterrupt\u001b[0m                         Traceback (most recent call last)",
      "\u001b[1;32md:\\Games\\Trimps\\trimps-tools\\DAT550-prosjekt\\discriminator.ipynb Cell 12'\u001b[0m in \u001b[0;36m<cell line: 9>\u001b[1;34m()\u001b[0m\n\u001b[0;32m     <a href='vscode-notebook-cell:/d%3A/Games/Trimps/trimps-tools/DAT550-prosjekt/discriminator.ipynb#ch0000009?line=17'>18</a>\u001b[0m loss_real \u001b[39m=\u001b[39m train_on_batch(data, \u001b[39m1\u001b[39m)\n\u001b[0;32m     <a href='vscode-notebook-cell:/d%3A/Games/Trimps/trimps-tools/DAT550-prosjekt/discriminator.ipynb#ch0000009?line=19'>20</a>\u001b[0m \u001b[39m# Train with fake batch\u001b[39;00m\n\u001b[1;32m---> <a href='vscode-notebook-cell:/d%3A/Games/Trimps/trimps-tools/DAT550-prosjekt/discriminator.ipynb#ch0000009?line=20'>21</a>\u001b[0m loss_fake \u001b[39m=\u001b[39m train_on_batch(\u001b[39mnext\u001b[39;49m(itfake), \u001b[39m0\u001b[39m)\n\u001b[0;32m     <a href='vscode-notebook-cell:/d%3A/Games/Trimps/trimps-tools/DAT550-prosjekt/discriminator.ipynb#ch0000009?line=22'>23</a>\u001b[0m \u001b[39m# Update network\u001b[39;00m\n\u001b[0;32m     <a href='vscode-notebook-cell:/d%3A/Games/Trimps/trimps-tools/DAT550-prosjekt/discriminator.ipynb#ch0000009?line=23'>24</a>\u001b[0m optimiser\u001b[39m.\u001b[39mstep()\n",
      "File \u001b[1;32mc:\\Users\\NooNoo\\AppData\\Local\\Programs\\Python\\Python310\\lib\\site-packages\\torch\\utils\\data\\dataloader.py:530\u001b[0m, in \u001b[0;36m_BaseDataLoaderIter.__next__\u001b[1;34m(self)\u001b[0m\n\u001b[0;32m    <a href='file:///c%3A/Users/NooNoo/AppData/Local/Programs/Python/Python310/lib/site-packages/torch/utils/data/dataloader.py?line=527'>528</a>\u001b[0m \u001b[39mif\u001b[39;00m \u001b[39mself\u001b[39m\u001b[39m.\u001b[39m_sampler_iter \u001b[39mis\u001b[39;00m \u001b[39mNone\u001b[39;00m:\n\u001b[0;32m    <a href='file:///c%3A/Users/NooNoo/AppData/Local/Programs/Python/Python310/lib/site-packages/torch/utils/data/dataloader.py?line=528'>529</a>\u001b[0m     \u001b[39mself\u001b[39m\u001b[39m.\u001b[39m_reset()\n\u001b[1;32m--> <a href='file:///c%3A/Users/NooNoo/AppData/Local/Programs/Python/Python310/lib/site-packages/torch/utils/data/dataloader.py?line=529'>530</a>\u001b[0m data \u001b[39m=\u001b[39m \u001b[39mself\u001b[39;49m\u001b[39m.\u001b[39;49m_next_data()\n\u001b[0;32m    <a href='file:///c%3A/Users/NooNoo/AppData/Local/Programs/Python/Python310/lib/site-packages/torch/utils/data/dataloader.py?line=530'>531</a>\u001b[0m \u001b[39mself\u001b[39m\u001b[39m.\u001b[39m_num_yielded \u001b[39m+\u001b[39m\u001b[39m=\u001b[39m \u001b[39m1\u001b[39m\n\u001b[0;32m    <a href='file:///c%3A/Users/NooNoo/AppData/Local/Programs/Python/Python310/lib/site-packages/torch/utils/data/dataloader.py?line=531'>532</a>\u001b[0m \u001b[39mif\u001b[39;00m \u001b[39mself\u001b[39m\u001b[39m.\u001b[39m_dataset_kind \u001b[39m==\u001b[39m _DatasetKind\u001b[39m.\u001b[39mIterable \u001b[39mand\u001b[39;00m \\\n\u001b[0;32m    <a href='file:///c%3A/Users/NooNoo/AppData/Local/Programs/Python/Python310/lib/site-packages/torch/utils/data/dataloader.py?line=532'>533</a>\u001b[0m         \u001b[39mself\u001b[39m\u001b[39m.\u001b[39m_IterableDataset_len_called \u001b[39mis\u001b[39;00m \u001b[39mnot\u001b[39;00m \u001b[39mNone\u001b[39;00m \u001b[39mand\u001b[39;00m \\\n\u001b[0;32m    <a href='file:///c%3A/Users/NooNoo/AppData/Local/Programs/Python/Python310/lib/site-packages/torch/utils/data/dataloader.py?line=533'>534</a>\u001b[0m         \u001b[39mself\u001b[39m\u001b[39m.\u001b[39m_num_yielded \u001b[39m>\u001b[39m \u001b[39mself\u001b[39m\u001b[39m.\u001b[39m_IterableDataset_len_called:\n",
      "File \u001b[1;32mc:\\Users\\NooNoo\\AppData\\Local\\Programs\\Python\\Python310\\lib\\site-packages\\torch\\utils\\data\\dataloader.py:570\u001b[0m, in \u001b[0;36m_SingleProcessDataLoaderIter._next_data\u001b[1;34m(self)\u001b[0m\n\u001b[0;32m    <a href='file:///c%3A/Users/NooNoo/AppData/Local/Programs/Python/Python310/lib/site-packages/torch/utils/data/dataloader.py?line=567'>568</a>\u001b[0m \u001b[39mdef\u001b[39;00m \u001b[39m_next_data\u001b[39m(\u001b[39mself\u001b[39m):\n\u001b[0;32m    <a href='file:///c%3A/Users/NooNoo/AppData/Local/Programs/Python/Python310/lib/site-packages/torch/utils/data/dataloader.py?line=568'>569</a>\u001b[0m     index \u001b[39m=\u001b[39m \u001b[39mself\u001b[39m\u001b[39m.\u001b[39m_next_index()  \u001b[39m# may raise StopIteration\u001b[39;00m\n\u001b[1;32m--> <a href='file:///c%3A/Users/NooNoo/AppData/Local/Programs/Python/Python310/lib/site-packages/torch/utils/data/dataloader.py?line=569'>570</a>\u001b[0m     data \u001b[39m=\u001b[39m \u001b[39mself\u001b[39;49m\u001b[39m.\u001b[39;49m_dataset_fetcher\u001b[39m.\u001b[39;49mfetch(index)  \u001b[39m# may raise StopIteration\u001b[39;00m\n\u001b[0;32m    <a href='file:///c%3A/Users/NooNoo/AppData/Local/Programs/Python/Python310/lib/site-packages/torch/utils/data/dataloader.py?line=570'>571</a>\u001b[0m     \u001b[39mif\u001b[39;00m \u001b[39mself\u001b[39m\u001b[39m.\u001b[39m_pin_memory:\n\u001b[0;32m    <a href='file:///c%3A/Users/NooNoo/AppData/Local/Programs/Python/Python310/lib/site-packages/torch/utils/data/dataloader.py?line=571'>572</a>\u001b[0m         data \u001b[39m=\u001b[39m _utils\u001b[39m.\u001b[39mpin_memory\u001b[39m.\u001b[39mpin_memory(data)\n",
      "File \u001b[1;32mc:\\Users\\NooNoo\\AppData\\Local\\Programs\\Python\\Python310\\lib\\site-packages\\torch\\utils\\data\\_utils\\fetch.py:49\u001b[0m, in \u001b[0;36m_MapDatasetFetcher.fetch\u001b[1;34m(self, possibly_batched_index)\u001b[0m\n\u001b[0;32m     <a href='file:///c%3A/Users/NooNoo/AppData/Local/Programs/Python/Python310/lib/site-packages/torch/utils/data/_utils/fetch.py?line=46'>47</a>\u001b[0m \u001b[39mdef\u001b[39;00m \u001b[39mfetch\u001b[39m(\u001b[39mself\u001b[39m, possibly_batched_index):\n\u001b[0;32m     <a href='file:///c%3A/Users/NooNoo/AppData/Local/Programs/Python/Python310/lib/site-packages/torch/utils/data/_utils/fetch.py?line=47'>48</a>\u001b[0m     \u001b[39mif\u001b[39;00m \u001b[39mself\u001b[39m\u001b[39m.\u001b[39mauto_collation:\n\u001b[1;32m---> <a href='file:///c%3A/Users/NooNoo/AppData/Local/Programs/Python/Python310/lib/site-packages/torch/utils/data/_utils/fetch.py?line=48'>49</a>\u001b[0m         data \u001b[39m=\u001b[39m [\u001b[39mself\u001b[39m\u001b[39m.\u001b[39mdataset[idx] \u001b[39mfor\u001b[39;00m idx \u001b[39min\u001b[39;00m possibly_batched_index]\n\u001b[0;32m     <a href='file:///c%3A/Users/NooNoo/AppData/Local/Programs/Python/Python310/lib/site-packages/torch/utils/data/_utils/fetch.py?line=49'>50</a>\u001b[0m     \u001b[39melse\u001b[39;00m:\n\u001b[0;32m     <a href='file:///c%3A/Users/NooNoo/AppData/Local/Programs/Python/Python310/lib/site-packages/torch/utils/data/_utils/fetch.py?line=50'>51</a>\u001b[0m         data \u001b[39m=\u001b[39m \u001b[39mself\u001b[39m\u001b[39m.\u001b[39mdataset[possibly_batched_index]\n",
      "File \u001b[1;32mc:\\Users\\NooNoo\\AppData\\Local\\Programs\\Python\\Python310\\lib\\site-packages\\torch\\utils\\data\\_utils\\fetch.py:49\u001b[0m, in \u001b[0;36m<listcomp>\u001b[1;34m(.0)\u001b[0m\n\u001b[0;32m     <a href='file:///c%3A/Users/NooNoo/AppData/Local/Programs/Python/Python310/lib/site-packages/torch/utils/data/_utils/fetch.py?line=46'>47</a>\u001b[0m \u001b[39mdef\u001b[39;00m \u001b[39mfetch\u001b[39m(\u001b[39mself\u001b[39m, possibly_batched_index):\n\u001b[0;32m     <a href='file:///c%3A/Users/NooNoo/AppData/Local/Programs/Python/Python310/lib/site-packages/torch/utils/data/_utils/fetch.py?line=47'>48</a>\u001b[0m     \u001b[39mif\u001b[39;00m \u001b[39mself\u001b[39m\u001b[39m.\u001b[39mauto_collation:\n\u001b[1;32m---> <a href='file:///c%3A/Users/NooNoo/AppData/Local/Programs/Python/Python310/lib/site-packages/torch/utils/data/_utils/fetch.py?line=48'>49</a>\u001b[0m         data \u001b[39m=\u001b[39m [\u001b[39mself\u001b[39;49m\u001b[39m.\u001b[39;49mdataset[idx] \u001b[39mfor\u001b[39;00m idx \u001b[39min\u001b[39;00m possibly_batched_index]\n\u001b[0;32m     <a href='file:///c%3A/Users/NooNoo/AppData/Local/Programs/Python/Python310/lib/site-packages/torch/utils/data/_utils/fetch.py?line=49'>50</a>\u001b[0m     \u001b[39melse\u001b[39;00m:\n\u001b[0;32m     <a href='file:///c%3A/Users/NooNoo/AppData/Local/Programs/Python/Python310/lib/site-packages/torch/utils/data/_utils/fetch.py?line=50'>51</a>\u001b[0m         data \u001b[39m=\u001b[39m \u001b[39mself\u001b[39m\u001b[39m.\u001b[39mdataset[possibly_batched_index]\n",
      "File \u001b[1;32mc:\\Users\\NooNoo\\AppData\\Local\\Programs\\Python\\Python310\\lib\\site-packages\\torchvision\\datasets\\folder.py:230\u001b[0m, in \u001b[0;36mDatasetFolder.__getitem__\u001b[1;34m(self, index)\u001b[0m\n\u001b[0;32m    <a href='file:///c%3A/Users/NooNoo/AppData/Local/Programs/Python/Python310/lib/site-packages/torchvision/datasets/folder.py?line=221'>222</a>\u001b[0m \u001b[39m\"\"\"\u001b[39;00m\n\u001b[0;32m    <a href='file:///c%3A/Users/NooNoo/AppData/Local/Programs/Python/Python310/lib/site-packages/torchvision/datasets/folder.py?line=222'>223</a>\u001b[0m \u001b[39mArgs:\u001b[39;00m\n\u001b[0;32m    <a href='file:///c%3A/Users/NooNoo/AppData/Local/Programs/Python/Python310/lib/site-packages/torchvision/datasets/folder.py?line=223'>224</a>\u001b[0m \u001b[39m    index (int): Index\u001b[39;00m\n\u001b[1;32m   (...)\u001b[0m\n\u001b[0;32m    <a href='file:///c%3A/Users/NooNoo/AppData/Local/Programs/Python/Python310/lib/site-packages/torchvision/datasets/folder.py?line=226'>227</a>\u001b[0m \u001b[39m    tuple: (sample, target) where target is class_index of the target class.\u001b[39;00m\n\u001b[0;32m    <a href='file:///c%3A/Users/NooNoo/AppData/Local/Programs/Python/Python310/lib/site-packages/torchvision/datasets/folder.py?line=227'>228</a>\u001b[0m \u001b[39m\"\"\"\u001b[39;00m\n\u001b[0;32m    <a href='file:///c%3A/Users/NooNoo/AppData/Local/Programs/Python/Python310/lib/site-packages/torchvision/datasets/folder.py?line=228'>229</a>\u001b[0m path, target \u001b[39m=\u001b[39m \u001b[39mself\u001b[39m\u001b[39m.\u001b[39msamples[index]\n\u001b[1;32m--> <a href='file:///c%3A/Users/NooNoo/AppData/Local/Programs/Python/Python310/lib/site-packages/torchvision/datasets/folder.py?line=229'>230</a>\u001b[0m sample \u001b[39m=\u001b[39m \u001b[39mself\u001b[39;49m\u001b[39m.\u001b[39;49mloader(path)\n\u001b[0;32m    <a href='file:///c%3A/Users/NooNoo/AppData/Local/Programs/Python/Python310/lib/site-packages/torchvision/datasets/folder.py?line=230'>231</a>\u001b[0m \u001b[39mif\u001b[39;00m \u001b[39mself\u001b[39m\u001b[39m.\u001b[39mtransform \u001b[39mis\u001b[39;00m \u001b[39mnot\u001b[39;00m \u001b[39mNone\u001b[39;00m:\n\u001b[0;32m    <a href='file:///c%3A/Users/NooNoo/AppData/Local/Programs/Python/Python310/lib/site-packages/torchvision/datasets/folder.py?line=231'>232</a>\u001b[0m     sample \u001b[39m=\u001b[39m \u001b[39mself\u001b[39m\u001b[39m.\u001b[39mtransform(sample)\n",
      "File \u001b[1;32mc:\\Users\\NooNoo\\AppData\\Local\\Programs\\Python\\Python310\\lib\\site-packages\\torchvision\\datasets\\folder.py:269\u001b[0m, in \u001b[0;36mdefault_loader\u001b[1;34m(path)\u001b[0m\n\u001b[0;32m    <a href='file:///c%3A/Users/NooNoo/AppData/Local/Programs/Python/Python310/lib/site-packages/torchvision/datasets/folder.py?line=266'>267</a>\u001b[0m     \u001b[39mreturn\u001b[39;00m accimage_loader(path)\n\u001b[0;32m    <a href='file:///c%3A/Users/NooNoo/AppData/Local/Programs/Python/Python310/lib/site-packages/torchvision/datasets/folder.py?line=267'>268</a>\u001b[0m \u001b[39melse\u001b[39;00m:\n\u001b[1;32m--> <a href='file:///c%3A/Users/NooNoo/AppData/Local/Programs/Python/Python310/lib/site-packages/torchvision/datasets/folder.py?line=268'>269</a>\u001b[0m     \u001b[39mreturn\u001b[39;00m pil_loader(path)\n",
      "File \u001b[1;32mc:\\Users\\NooNoo\\AppData\\Local\\Programs\\Python\\Python310\\lib\\site-packages\\torchvision\\datasets\\folder.py:248\u001b[0m, in \u001b[0;36mpil_loader\u001b[1;34m(path)\u001b[0m\n\u001b[0;32m    <a href='file:///c%3A/Users/NooNoo/AppData/Local/Programs/Python/Python310/lib/site-packages/torchvision/datasets/folder.py?line=244'>245</a>\u001b[0m \u001b[39mdef\u001b[39;00m \u001b[39mpil_loader\u001b[39m(path: \u001b[39mstr\u001b[39m) \u001b[39m-\u001b[39m\u001b[39m>\u001b[39m Image\u001b[39m.\u001b[39mImage:\n\u001b[0;32m    <a href='file:///c%3A/Users/NooNoo/AppData/Local/Programs/Python/Python310/lib/site-packages/torchvision/datasets/folder.py?line=245'>246</a>\u001b[0m     \u001b[39m# open path as file to avoid ResourceWarning (https://github.com/python-pillow/Pillow/issues/835)\u001b[39;00m\n\u001b[0;32m    <a href='file:///c%3A/Users/NooNoo/AppData/Local/Programs/Python/Python310/lib/site-packages/torchvision/datasets/folder.py?line=246'>247</a>\u001b[0m     \u001b[39mwith\u001b[39;00m \u001b[39mopen\u001b[39m(path, \u001b[39m\"\u001b[39m\u001b[39mrb\u001b[39m\u001b[39m\"\u001b[39m) \u001b[39mas\u001b[39;00m f:\n\u001b[1;32m--> <a href='file:///c%3A/Users/NooNoo/AppData/Local/Programs/Python/Python310/lib/site-packages/torchvision/datasets/folder.py?line=247'>248</a>\u001b[0m         img \u001b[39m=\u001b[39m Image\u001b[39m.\u001b[39;49mopen(f)\n\u001b[0;32m    <a href='file:///c%3A/Users/NooNoo/AppData/Local/Programs/Python/Python310/lib/site-packages/torchvision/datasets/folder.py?line=248'>249</a>\u001b[0m         \u001b[39mreturn\u001b[39;00m img\u001b[39m.\u001b[39mconvert(\u001b[39m\"\u001b[39m\u001b[39mRGB\u001b[39m\u001b[39m\"\u001b[39m)\n",
      "File \u001b[1;32mc:\\Users\\NooNoo\\AppData\\Local\\Programs\\Python\\Python310\\lib\\site-packages\\PIL\\Image.py:3018\u001b[0m, in \u001b[0;36mopen\u001b[1;34m(fp, mode, formats)\u001b[0m\n\u001b[0;32m   <a href='file:///c%3A/Users/NooNoo/AppData/Local/Programs/Python/Python310/lib/site-packages/PIL/Image.py?line=3009'>3010</a>\u001b[0m     \u001b[39mif\u001b[39;00m pixels \u001b[39m>\u001b[39m MAX_IMAGE_PIXELS:\n\u001b[0;32m   <a href='file:///c%3A/Users/NooNoo/AppData/Local/Programs/Python/Python310/lib/site-packages/PIL/Image.py?line=3010'>3011</a>\u001b[0m         warnings\u001b[39m.\u001b[39mwarn(\n\u001b[0;32m   <a href='file:///c%3A/Users/NooNoo/AppData/Local/Programs/Python/Python310/lib/site-packages/PIL/Image.py?line=3011'>3012</a>\u001b[0m             \u001b[39mf\u001b[39m\u001b[39m\"\u001b[39m\u001b[39mImage size (\u001b[39m\u001b[39m{\u001b[39;00mpixels\u001b[39m}\u001b[39;00m\u001b[39m pixels) exceeds limit of \u001b[39m\u001b[39m{\u001b[39;00mMAX_IMAGE_PIXELS\u001b[39m}\u001b[39;00m\u001b[39m pixels, \u001b[39m\u001b[39m\"\u001b[39m\n\u001b[0;32m   <a href='file:///c%3A/Users/NooNoo/AppData/Local/Programs/Python/Python310/lib/site-packages/PIL/Image.py?line=3012'>3013</a>\u001b[0m             \u001b[39m\"\u001b[39m\u001b[39mcould be decompression bomb DOS attack.\u001b[39m\u001b[39m\"\u001b[39m,\n\u001b[0;32m   <a href='file:///c%3A/Users/NooNoo/AppData/Local/Programs/Python/Python310/lib/site-packages/PIL/Image.py?line=3013'>3014</a>\u001b[0m             DecompressionBombWarning,\n\u001b[0;32m   <a href='file:///c%3A/Users/NooNoo/AppData/Local/Programs/Python/Python310/lib/site-packages/PIL/Image.py?line=3014'>3015</a>\u001b[0m         )\n\u001b[1;32m-> <a href='file:///c%3A/Users/NooNoo/AppData/Local/Programs/Python/Python310/lib/site-packages/PIL/Image.py?line=3017'>3018</a>\u001b[0m \u001b[39mdef\u001b[39;00m \u001b[39mopen\u001b[39m(fp, mode\u001b[39m=\u001b[39m\u001b[39m\"\u001b[39m\u001b[39mr\u001b[39m\u001b[39m\"\u001b[39m, formats\u001b[39m=\u001b[39m\u001b[39mNone\u001b[39;00m):\n\u001b[0;32m   <a href='file:///c%3A/Users/NooNoo/AppData/Local/Programs/Python/Python310/lib/site-packages/PIL/Image.py?line=3018'>3019</a>\u001b[0m     \u001b[39m\"\"\"\u001b[39;00m\n\u001b[0;32m   <a href='file:///c%3A/Users/NooNoo/AppData/Local/Programs/Python/Python310/lib/site-packages/PIL/Image.py?line=3019'>3020</a>\u001b[0m \u001b[39m    Opens and identifies the given image file.\u001b[39;00m\n\u001b[0;32m   <a href='file:///c%3A/Users/NooNoo/AppData/Local/Programs/Python/Python310/lib/site-packages/PIL/Image.py?line=3020'>3021</a>\u001b[0m \n\u001b[1;32m   (...)\u001b[0m\n\u001b[0;32m   <a href='file:///c%3A/Users/NooNoo/AppData/Local/Programs/Python/Python310/lib/site-packages/PIL/Image.py?line=3043'>3044</a>\u001b[0m \u001b[39m    :exception TypeError: If ``formats`` is not ``None``, a list or a tuple.\u001b[39;00m\n\u001b[0;32m   <a href='file:///c%3A/Users/NooNoo/AppData/Local/Programs/Python/Python310/lib/site-packages/PIL/Image.py?line=3044'>3045</a>\u001b[0m \u001b[39m    \"\"\"\u001b[39;00m\n\u001b[0;32m   <a href='file:///c%3A/Users/NooNoo/AppData/Local/Programs/Python/Python310/lib/site-packages/PIL/Image.py?line=3046'>3047</a>\u001b[0m     \u001b[39mif\u001b[39;00m mode \u001b[39m!=\u001b[39m \u001b[39m\"\u001b[39m\u001b[39mr\u001b[39m\u001b[39m\"\u001b[39m:\n",
      "\u001b[1;31mKeyboardInterrupt\u001b[0m: "
     ]
    }
   ],
   "source": [
    "# Optimiser\n",
    "optimiser = torch.optim.Adam(network.parameters(), lr=lr, betas=(beta1, 0.999))\n",
    "\n",
    "# Loss function\n",
    "loss_fn = torch.nn.BCELoss()\n",
    "\n",
    "losses = []\n",
    "\n",
    "for epoch in tqdm(range(num_epochs)):\n",
    "    itfake = iter(dataloader_fake)\n",
    "\n",
    "    # For each batch in the dataloader\n",
    "    for i, data in tqdm(enumerate(dataloader_real)):\n",
    "        # Set gradient to 0\n",
    "        network.zero_grad()\n",
    "\n",
    "        # Train with real batch\n",
    "        loss_real = train_on_batch(data, 1)\n",
    "\n",
    "        # Train with fake batch\n",
    "        loss_fake = train_on_batch(next(itfake), 0)\n",
    "\n",
    "        # Update network\n",
    "        optimiser.step()\n",
    "\n",
    "        # Save losses\n",
    "        loss = loss_real + loss_fake\n",
    "        losses.append(loss.item())\n"
   ]
  },
  {
   "cell_type": "code",
   "execution_count": 104,
   "metadata": {},
   "outputs": [
    {
     "data": {
      "text/plain": [
       "<AxesSubplot:>"
      ]
     },
     "execution_count": 104,
     "metadata": {},
     "output_type": "execute_result"
    },
    {
     "data": {
      "image/png": "[encoded data removed]",
      "text/plain": [
       "<Figure size 921.6x633.6 with 1 Axes>"
      ]
     },
     "metadata": {},
     "output_type": "display_data"
    }
   ],
   "source": [
    "# Plot losses\n",
    "sns.lineplot(data=losses)"
   ]
  },
  {
   "cell_type": "code",
   "execution_count": null,
   "metadata": {},
   "outputs": [
    {
     "data": {
      "text/plain": [
       "Discriminator(\n",
       "  (main): Sequential(\n",
       "    (0): Conv2d(3, 64, kernel_size=(4, 4), stride=(2, 2), padding=(1, 1), bias=False)\n",
       "    (1): LeakyReLU(negative_slope=0.2, inplace=True)\n",
       "    (2): Conv2d(64, 128, kernel_size=(4, 4), stride=(2, 2), padding=(1, 1), bias=False)\n",
       "    (3): BatchNorm2d(128, eps=1e-05, momentum=0.1, affine=True, track_running_stats=True)\n",
       "    (4): LeakyReLU(negative_slope=0.2, inplace=True)\n",
       "    (5): Conv2d(128, 256, kernel_size=(4, 4), stride=(2, 2), padding=(1, 1), bias=False)\n",
       "    (6): BatchNorm2d(256, eps=1e-05, momentum=0.1, affine=True, track_running_stats=True)\n",
       "    (7): LeakyReLU(negative_slope=0.2, inplace=True)\n",
       "    (8): Conv2d(256, 512, kernel_size=(4, 4), stride=(2, 2), padding=(1, 1), bias=False)\n",
       "    (9): BatchNorm2d(512, eps=1e-05, momentum=0.1, affine=True, track_running_stats=True)\n",
       "    (10): LeakyReLU(negative_slope=0.2, inplace=True)\n",
       "    (11): Conv2d(512, 1, kernel_size=(4, 4), stride=(1, 1), bias=False)\n",
       "    (12): Sigmoid()\n",
       "  )\n",
       ")"
      ]
     },
     "execution_count": 40,
     "metadata": {},
     "output_type": "execute_result"
    }
   ],
   "source": [
    "# Set network in evaluation mode\n",
    "network.eval()"
   ]
  },
  {
   "cell_type": "code",
   "execution_count": null,
   "metadata": {},
   "outputs": [],
   "source": [
    "def predict_folder(path):\n",
    "    videos = tv.datasets.ImageFolder(\n",
    "        root=path,\n",
    "        transform=tv.transforms.Compose(\n",
    "            [\n",
    "                tv.transforms.Resize(image_size),\n",
    "                tv.transforms.CenterCrop(image_size),\n",
    "                tv.transforms.ToTensor(),\n",
    "                tv.transforms.Normalize((0.5, 0.5, 0.5), (0.5, 0.5, 0.5)),\n",
    "            ]\n",
    "        ),\n",
    "    )\n",
    "\n",
    "    for ind, val in videos.class_to_idx.items():\n",
    "        low = math.inf\n",
    "        high = -1\n",
    "        for i, ele in enumerate(videos.imgs):\n",
    "            _, idx = ele\n",
    "            if idx == val:\n",
    "                if i < low:\n",
    "                    low = i\n",
    "                if i > high:\n",
    "                    high = i\n",
    "        video = torch.utils.data.Subset(videos, range(low, high))\n",
    "        results = []\n",
    "        for frame in video:\n",
    "            frame = frame[0]\n",
    "            frame = frame.view(1, *frame.shape)\n",
    "            results.append(network(frame).view(-1).item())\n",
    "        print(ind, round(np.mean(results)))\n"
   ]
  },
  {
   "cell_type": "code",
   "execution_count": null,
   "metadata": {},
   "outputs": [
    {
     "name": "stdout",
     "output_type": "stream",
     "text": [
      "aeolxtsnfc.mp4 0.5905589994952631\n",
      "aevbmlbayq.mp4 0.6759592888888365\n",
      "ahanoygyei.mp4 0.19759264005033492\n",
      "ahpnrwwibe.mp4 0.15384173472157933\n",
      "alrhucxcnv.mp4 0.13839082386554769\n",
      "alypwytrnl.mp4 0.5351399360193456\n",
      "andnipfbgy.mp4 0.8584229563221787\n",
      "annsmfhdgk.mp4 0.518357077272014\n",
      "anzenqcwqo.mp4 0.8192782728144756\n",
      "apansjedym.mp4 0.5777808462034513\n",
      "arwiyweadv.mp4 0.9482235454801303\n",
      "atedpzfvyf.mp4 0.746969811984543\n",
      "atuzsraaul.mp4 0.1652885067368639\n",
      "avttogwbyz.mp4 0.22007197718584542\n"
     ]
    }
   ],
   "source": [
    "predict_folder(test_set + 'real')"
   ]
  },
  {
   "cell_type": "code",
   "execution_count": null,
   "metadata": {},
   "outputs": [
    {
     "name": "stdout",
     "output_type": "stream",
     "text": [
      "abdgairkrk.mp4 0.33292667494088807\n",
      "abgrdkbhch.mp4 0.4889192778031563\n",
      "abmdetdeok.mp4 0.5790376174310378\n",
      "abteztchqz.mp4 0.24500866684723985\n",
      "accfrqkrni.mp4 0.09813486892316077\n",
      "acekgkqgdg.mp4 0.34401717920940256\n",
      "acgyspwyqr.mp4 0.16146630451704064\n",
      "achekamhkd.mp4 0.14079504231499\n",
      "acqawykwfs.mp4 0.6637584320627726\n",
      "adfufsvmcl.mp4 0.38571618486158427\n",
      "adtftvevja.mp4 0.28750328908995243\n",
      "advhlnfwag.mp4 0.005666827544664677\n",
      "aebrgxdalw.mp4 0.5127844590456988\n",
      "aednqykqfh.mp4 0.6846135742713177\n",
      "aegeiboeus.mp4 0.9082099830867439\n",
      "aeplbqxnge.mp4 0.4259011343021855\n",
      "aezujunliw.mp4 0.9942344278097153\n",
      "afaxsgqksm.mp4 0.5706606372633333\n",
      "afwakzqdin.mp4 0.5697233021558328\n",
      "afynesbqqg.mp4 0.9593592156966527\n",
      "agblhurdrh.mp4 0.22196758176545833\n",
      "aglqdsqmim.mp4 0.0976160824516456\n",
      "agyawnxlmv.mp4 0.8097663615632245\n",
      "ahcptgydid.mp4 0.9071844589225081\n",
      "ahvroxnbbr.mp4 0.0976197335582513\n",
      "aiaxyavqce.mp4 0.3946193940648737\n",
      "aigufxcoyu.mp4 0.43507490665916615\n",
      "akcebajhgd.mp4 0.24736512096753965\n",
      "akdqrdkelr.mp4 0.23026798489062408\n",
      "aknrpivxgd.mp4 0.7369171039615586\n",
      "alddoocxqo.mp4 0.2934515864205201\n",
      "alevzwjovd.mp4 0.6005532405647546\n",
      "altqelkpqj.mp4 0.9810921847820282\n",
      "alvymawvku.mp4 0.688484255735292\n",
      "amdrqfyqgr.mp4 0.769991614137377\n",
      "amlkmjcbsg.mp4 0.4234108690185414\n",
      "amoyritjif.mp4 0.35043059775362845\n",
      "ampwuteugc.mp4 0.594658476353489\n",
      "anaykjgpmk.mp4 0.9837394035176227\n",
      "anpptpyvxe.mp4 0.7747342173822622\n",
      "aodrcrvodk.mp4 0.010794985760245021\n",
      "aoiejhrhmt.mp4 0.5102653051897833\n",
      "aomhbqppxn.mp4 0.810072579586187\n",
      "aozliqzela.mp4 0.6083100451075513\n",
      "apasrbjbwu.mp4 0.5199582004626858\n",
      "apfribzdle.mp4 0.9997626130397503\n",
      "apfwbpnetp.mp4 0.44253009961297113\n",
      "apojgziubj.mp4 0.6329433399199642\n",
      "apztusvlxo.mp4 0.47493447071394407\n",
      "aqfnbkwyct.mp4 0.19542566666044064\n",
      "aqixnwknzx.mp4 0.291857507156824\n",
      "aqpcbawfuc.mp4 0.4773640407679173\n",
      "aqpfnbapix.mp4 0.9697883344929794\n",
      "arjihnnsxp.mp4 0.8645923127388132\n",
      "aruyyclubn.mp4 0.5788221034567093\n",
      "asarlqgmqi.mp4 3.055352153751301e-06\n",
      "asewluvyef.mp4 nan\n"
     ]
    },
    {
     "name": "stderr",
     "output_type": "stream",
     "text": [
      "c:\\Users\\NooNoo\\AppData\\Local\\Programs\\Python\\Python310\\lib\\site-packages\\numpy\\core\\fromnumeric.py:3474: RuntimeWarning: Mean of empty slice.\n",
      "  return _methods._mean(a, axis=axis, dtype=dtype,\n",
      "c:\\Users\\NooNoo\\AppData\\Local\\Programs\\Python\\Python310\\lib\\site-packages\\numpy\\core\\_methods.py:189: RuntimeWarning: invalid value encountered in double_scalars\n",
      "  ret = ret.dtype.type(ret / rcount)\n"
     ]
    },
    {
     "name": "stdout",
     "output_type": "stream",
     "text": [
      "aslagfljgq.mp4 0.12627369571611824\n",
      "aspxqtipuv.mp4 0.2434071288701072\n",
      "aswtwwuiva.mp4 0.769817958585918\n",
      "asyjnjjldz.mp4 0.05818108767167539\n",
      "atmalptsdf.mp4 0.19968847752574626\n",
      "atoeqixpui.mp4 0.6691908991855123\n",
      "atqtjhcjok.mp4 0.6416502189401998\n",
      "aufudlkirv.mp4 0.1656785376213196\n",
      "auyrrevsns.mp4 0.15972212076414632\n",
      "auysreeedq.mp4 0.6035452732443809\n",
      "avlbihahvk.mp4 0.8421412706375122\n",
      "avmrqfwizg.mp4 0.07787714603832586\n",
      "avqxrnfzpd.mp4 0.8576316237449646\n",
      "avtdwylihb.mp4 nan\n",
      "awifeyjgpb.mp4 0.0644773578327336\n",
      "awzgjaqzyu.mp4 0.9190569953484968\n"
     ]
    }
   ],
   "source": [
    "predict_folder(test_set + 'fake')"
   ]
  }
 ],
 "metadata": {
  "interpreter": {
   "hash": "e44d3dbc99e2d349f45ec8bb2a032e2373c7b6a7a829313fa9af53fb21fb918c"
  },
  "kernelspec": {
   "display_name": "Python 3.10.2 64-bit",
   "language": "python",
   "name": "python3"
  },
  "language_info": {
   "codemirror_mode": {
    "name": "ipython",
    "version": 3
   },
   "file_extension": ".py",
   "mimetype": "text/x-python",
   "name": "python",
   "nbconvert_exporter": "python",
   "pygments_lexer": "ipython3",
   "version": "3.10.2"
  },
  "orig_nbformat": 4
 },
 "nbformat": 4,
 "nbformat_minor": 2
}
