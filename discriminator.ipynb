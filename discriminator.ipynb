{
 "cells": [
  {
   "cell_type": "markdown",
   "metadata": {},
   "source": [
    "# Deepfake detection using GAN\n"
   ]
  },
  {
   "cell_type": "code",
   "execution_count": 227,
   "metadata": {},
   "outputs": [],
   "source": [
    "# Imports\n",
    "import numpy as np\n",
    "import torch\n",
    "import torchvision as tv\n",
    "import math\n",
    "import pandas as pd\n",
    "\n",
    "# Plotting\n",
    "import seaborn as sns\n",
    "import matplotlib\n",
    "from tqdm import tqdm\n"
   ]
  },
  {
   "cell_type": "code",
   "execution_count": 228,
   "metadata": {},
   "outputs": [],
   "source": [
    "# Configure plots\n",
    "matplotlib.style.use(\"seaborn-poster\")  # Poster = big, paper = small\n",
    "matplotlib.style.use(\"ggplot\")\n",
    "matplotlib.rcParams[\"font.family\"] = \"serif\"\n",
    "sns.set_context(\"poster\")  # Poster = big, paper = small\n"
   ]
  },
  {
   "cell_type": "markdown",
   "metadata": {},
   "source": [
    "Controlling seeds to control reproducability.\n"
   ]
  },
  {
   "cell_type": "code",
   "execution_count": 229,
   "metadata": {},
   "outputs": [],
   "source": [
    "# Paths\n",
    "train_set = \"train/\"\n",
    "test_set = \"test_set/\"\n"
   ]
  },
  {
   "cell_type": "code",
   "execution_count": 230,
   "metadata": {},
   "outputs": [],
   "source": [
    "batch_size = 64  # How many elemnts in each batch\n",
    "image_size = 64  # Resize images to this value\n",
    "# Load the real part of the train dataset\n",
    "train_set_real = tv.datasets.ImageFolder(\n",
    "    root=train_set + \"real\",\n",
    "    transform=tv.transforms.Compose(\n",
    "        [\n",
    "            tv.transforms.Resize(image_size),\n",
    "            tv.transforms.CenterCrop(image_size),\n",
    "            tv.transforms.ToTensor(),\n",
    "            tv.transforms.Normalize((0.5, 0.5, 0.5), (0.5, 0.5, 0.5)),\n",
    "        ]\n",
    "    ),\n",
    ")\n",
    "\n",
    "# Use dataloader to get batches\n",
    "dataloader_real = torch.utils.data.DataLoader(\n",
    "    train_set_real, batch_size=batch_size, shuffle=True\n",
    ")\n",
    "\n",
    "# Load the fake part of the train dataset\n",
    "train_set_fake = tv.datasets.ImageFolder(\n",
    "    root=train_set + \"fake\",\n",
    "    transform=tv.transforms.Compose(\n",
    "        [\n",
    "            tv.transforms.Resize(image_size),\n",
    "            tv.transforms.CenterCrop(image_size),\n",
    "            tv.transforms.ToTensor(),\n",
    "            tv.transforms.Normalize((0.5, 0.5, 0.5), (0.5, 0.5, 0.5)),\n",
    "        ]\n",
    "    ),\n",
    ")\n",
    "\n",
    "# Use dataloader to get batches\n",
    "dataloader_fake = torch.utils.data.DataLoader(\n",
    "    train_set_fake, batch_size=batch_size, shuffle=True\n",
    ")\n"
   ]
  },
  {
   "cell_type": "code",
   "execution_count": 231,
   "metadata": {},
   "outputs": [],
   "source": [
    "class Discriminator(torch.nn.Module):\n",
    "    def __init__(self):\n",
    "        super(Discriminator, self).__init__()\n",
    "        ndf = 64\n",
    "        self.main = torch.nn.Sequential(\n",
    "            # input is 64 x 64 x 3\n",
    "            torch.nn.Conv2d(3, ndf, 4, 2, 1, bias=False),\n",
    "            torch.nn.LeakyReLU(0.2, inplace=True),\n",
    "            # state size. (ndf) x 32 x 32\n",
    "            torch.nn.Conv2d(ndf, ndf * 2, 4, 2, 1, bias=False),\n",
    "            torch.nn.BatchNorm2d(ndf * 2),\n",
    "            torch.nn.LeakyReLU(0.2, inplace=True),\n",
    "            # state size. (ndf*2) x 16 x 16\n",
    "            torch.nn.Conv2d(ndf * 2, ndf * 4, 4, 2, 1, bias=False),\n",
    "            torch.nn.BatchNorm2d(ndf * 4),\n",
    "            torch.nn.LeakyReLU(0.2, inplace=True),\n",
    "            # state size. (ndf*4) x 8 x 8\n",
    "            torch.nn.Conv2d(ndf * 4, ndf * 8, 4, 2, 1, bias=False),\n",
    "            torch.nn.BatchNorm2d(ndf * 8),\n",
    "            torch.nn.LeakyReLU(0.2, inplace=True),\n",
    "            # state size. (ndf*8) x 4 x 4\n",
    "            torch.nn.Conv2d(ndf * 8, 1, 4, 1, 0, bias=False),\n",
    "            torch.nn.Sigmoid(),\n",
    "        )\n",
    "\n",
    "    def forward(self, input):\n",
    "        return self.main(input)\n"
   ]
  },
  {
   "cell_type": "code",
   "execution_count": 232,
   "metadata": {},
   "outputs": [],
   "source": [
    "# Custom weights initialization called on the discriminator\n",
    "def init_weights(m):\n",
    "    classname = m.__class__.__name__\n",
    "    if classname.find(\"Conv\") != -1:\n",
    "        torch.nn.init.normal_(m.weight.data, 0.0, 0.02)\n",
    "    elif classname.find(\"BatchNorm\") != -1:\n",
    "        torch.nn.init.normal_(m.weight.data, 1.0, 0.02)\n",
    "        torch.nn.init.constant_(m.bias.data, 0)\n"
   ]
  },
  {
   "cell_type": "code",
   "execution_count": 233,
   "metadata": {},
   "outputs": [],
   "source": [
    "# Create the Discriminator\n",
    "network = Discriminator()\n",
    "\n",
    "# Apply weights\n",
    "network.apply(init_weights);"
   ]
  },
  {
   "cell_type": "code",
   "execution_count": 234,
   "metadata": {},
   "outputs": [],
   "source": [
    "def train_on_batch(batch, label):\n",
    "    # Format batch\n",
    "    batch = data[0].to()\n",
    "    labels = torch.full((batch.size(0),), label, dtype=torch.float)\n",
    "\n",
    "    # Forward pass batch\n",
    "    output = network(batch).view(-1)\n",
    "\n",
    "    # Calculate loss on batch\n",
    "    loss = loss_fn(output, labels)\n",
    "\n",
    "    # Backwards pass batch\n",
    "    loss.backward()\n",
    "    return loss\n"
   ]
  },
  {
   "cell_type": "code",
   "execution_count": null,
   "metadata": {},
   "outputs": [],
   "source": [
    "# Optimiser\n",
    "optimiser = torch.optim.Adam(network.parameters(), lr=0.0002, betas=(0.5, 0.999))\n",
    "\n",
    "# Loss function\n",
    "loss_fn = torch.nn.BCELoss()\n",
    "\n",
    "losses = []\n",
    "\n",
    "for epoch in tqdm(range(5)):\n",
    "    itfake = iter(dataloader_fake)\n",
    "\n",
    "    # For each batch in the dataloader\n",
    "    for i, data in tqdm(enumerate(dataloader_real)):\n",
    "        # Set gradient to 0\n",
    "        network.zero_grad()\n",
    "\n",
    "        # Train with real batch\n",
    "        loss_real = train_on_batch(data, 1)\n",
    "\n",
    "        # Train with fake batch\n",
    "        loss_fake = train_on_batch(next(itfake), 0)\n",
    "\n",
    "        # Update network\n",
    "        optimiser.step()\n",
    "\n",
    "        # Save losses\n",
    "        loss = loss_real + loss_fake\n",
    "        losses.append(loss.item())\n"
   ]
  },
  {
   "cell_type": "code",
   "execution_count": null,
   "metadata": {},
   "outputs": [
    {
     "data": {
      "text/plain": [
       "<AxesSubplot:>"
      ]
     },
     "execution_count": 134,
     "metadata": {},
     "output_type": "execute_result"
    },
    {
     "data": {
      "image/png": "[encoded data removed]",
      "text/plain": [
       "<Figure size 921.6x633.6 with 1 Axes>"
      ]
     },
     "metadata": {},
     "output_type": "display_data"
    }
   ],
   "source": [
    "# Plot losses\n",
    "sns.lineplot(data=losses)\n"
   ]
  },
  {
   "cell_type": "code",
   "execution_count": null,
   "metadata": {},
   "outputs": [],
   "source": [
    "# Set network in evaluation mode\n",
    "network.eval();\n"
   ]
  },
  {
   "cell_type": "code",
   "execution_count": null,
   "metadata": {},
   "outputs": [],
   "source": [
    "def predict_folder(path):\n",
    "    total = {}\n",
    "    videos = tv.datasets.ImageFolder(\n",
    "        root=path,\n",
    "        transform=tv.transforms.Compose(\n",
    "            [\n",
    "                tv.transforms.Resize(image_size),\n",
    "                tv.transforms.CenterCrop(image_size),\n",
    "                tv.transforms.ToTensor(),\n",
    "                tv.transforms.Normalize((0.5, 0.5, 0.5), (0.5, 0.5, 0.5)),\n",
    "            ]\n",
    "        ),\n",
    "    )\n",
    "\n",
    "    for ind, val in tqdm(videos.class_to_idx.items()):\n",
    "        low = math.inf\n",
    "        high = -1\n",
    "        for i, ele in enumerate(videos.imgs):\n",
    "            _, idx = ele\n",
    "            if idx == val:\n",
    "                if i < low:\n",
    "                    low = i\n",
    "                if i > high:\n",
    "                    high = i\n",
    "        high += 1\n",
    "        video = torch.utils.data.Subset(videos, range(low, high))\n",
    "        results = {}\n",
    "        frame_names = videos.imgs[low:high]\n",
    "        frame_names = [name[0] for name in frame_names]\n",
    "        name_iter = iter(frame_names)\n",
    "        with torch.no_grad():\n",
    "            for i, frame in enumerate(video):\n",
    "                frame_name = next(name_iter)\n",
    "                frame = frame[0]\n",
    "                frame = frame.view(1, *frame.shape)\n",
    "                pred = network(frame).item()\n",
    "                if (\n",
    "                    i != 0 and not \"face0\" in frame_name\n",
    "                ):  # If the face is part of a frame with multiple faces, always select the one most likely to be fake.\n",
    "                    frame_name = list(results.keys())[-1]\n",
    "                    results[frame_name] = (\n",
    "                        pred if pred < results[frame_name] else results[frame_name]\n",
    "                    )\n",
    "                else:\n",
    "                    results[frame_name] = pred\n",
    "        values = list(results.values())\n",
    "        total[ind] = round(np.mean(values)) # Classify the video as fake or real based on the majority of the frames.\n",
    "    return total\n"
   ]
  },
  {
   "cell_type": "code",
   "execution_count": null,
   "metadata": {},
   "outputs": [
    {
     "name": "stderr",
     "output_type": "stream",
     "text": [
      "100%|██████████| 14/14 [00:57<00:00,  4.10s/it]\n"
     ]
    }
   ],
   "source": [
    "total_real = predict_folder(test_set + \"real\")\n"
   ]
  },
  {
   "cell_type": "code",
   "execution_count": 236,
   "metadata": {},
   "outputs": [
    {
     "name": "stdout",
     "output_type": "stream",
     "text": [
      "Correctly classified videos: 5\n",
      "Incorrectly classified videos: 9\n",
      "Percantage corretly classified: 35.71%\n"
     ]
    }
   ],
   "source": [
    "df_real = pd.DataFrame(total_real.values(), total_real.keys())\n",
    "\n",
    "print(f\"Correctly classified videos: {df_real[0].sum()}\")\n",
    "print(f\"Incorrectly classified videos: {len(df_real) - df_real[0].sum()}\")\n",
    "print(\n",
    "    f\"Percantage corretly classified: {round((df_real[0].sum() / len(df_real)) * 100, 2)}%\"\n",
    ")\n"
   ]
  },
  {
   "cell_type": "code",
   "execution_count": null,
   "metadata": {},
   "outputs": [
    {
     "name": "stderr",
     "output_type": "stream",
     "text": [
      "100%|██████████| 256/256 [19:11<00:00,  4.50s/it]\n"
     ]
    }
   ],
   "source": [
    "total_fake = predict_folder(test_set + \"fake\")\n"
   ]
  },
  {
   "cell_type": "code",
   "execution_count": null,
   "metadata": {},
   "outputs": [
    {
     "name": "stdout",
     "output_type": "stream",
     "text": [
      "Correctly classified videos: 126\n",
      "Incorrectly classified videos: 130\n",
      "Percantage corretly classified: 49.22%\n"
     ]
    }
   ],
   "source": [
    "df_fake = pd.DataFrame(total_fake.values(), total_fake.keys())\n",
    "\n",
    "print(f\"Correctly classified videos: {len(df_fake) - df_fake[0].sum()}\")\n",
    "print(f\"Incorrectly classified videos: {df_fake[0].sum()}\")\n",
    "print(\n",
    "    f\"Percantage corretly classified: {round(((len(df_fake) - df_fake[0].sum()) / len(df_fake)) * 100, 2)}%\"\n",
    ")\n"
   ]
  },
  {
   "cell_type": "code",
   "execution_count": 237,
   "metadata": {},
   "outputs": [
    {
     "data": {
      "text/html": [
       "<div>\n",
       "<style scoped>\n",
       "    .dataframe tbody tr th:only-of-type {\n",
       "        vertical-align: middle;\n",
       "    }\n",
       "\n",
       "    .dataframe tbody tr th {\n",
       "        vertical-align: top;\n",
       "    }\n",
       "\n",
       "    .dataframe thead th {\n",
       "        text-align: right;\n",
       "    }\n",
       "</style>\n",
       "<table border=\"1\" class=\"dataframe\">\n",
       "  <thead>\n",
       "    <tr style=\"text-align: right;\">\n",
       "      <th></th>\n",
       "      <th>0</th>\n",
       "    </tr>\n",
       "  </thead>\n",
       "  <tbody>\n",
       "    <tr>\n",
       "      <th>aagfhgtpmv.mp4</th>\n",
       "      <td>0</td>\n",
       "    </tr>\n",
       "    <tr>\n",
       "      <th>aapnvogymq.mp4</th>\n",
       "      <td>0</td>\n",
       "    </tr>\n",
       "    <tr>\n",
       "      <th>abqwwspghj.mp4</th>\n",
       "      <td>0</td>\n",
       "    </tr>\n",
       "    <tr>\n",
       "      <th>acqfdwsrhi.mp4</th>\n",
       "      <td>1</td>\n",
       "    </tr>\n",
       "    <tr>\n",
       "      <th>acxnxvbsxk.mp4</th>\n",
       "      <td>0</td>\n",
       "    </tr>\n",
       "    <tr>\n",
       "      <th>...</th>\n",
       "      <td>...</td>\n",
       "    </tr>\n",
       "    <tr>\n",
       "      <th>etdcqxabww.mp4</th>\n",
       "      <td>1</td>\n",
       "    </tr>\n",
       "    <tr>\n",
       "      <th>etejaapnxh.mp4</th>\n",
       "      <td>0</td>\n",
       "    </tr>\n",
       "    <tr>\n",
       "      <th>etmcruaihe.mp4</th>\n",
       "      <td>0</td>\n",
       "    </tr>\n",
       "    <tr>\n",
       "      <th>etohcvnzbj.mp4</th>\n",
       "      <td>1</td>\n",
       "    </tr>\n",
       "    <tr>\n",
       "      <th>eukvucdetx.mp4</th>\n",
       "      <td>1</td>\n",
       "    </tr>\n",
       "  </tbody>\n",
       "</table>\n",
       "<p>256 rows × 1 columns</p>\n",
       "</div>"
      ],
      "text/plain": [
       "                0\n",
       "aagfhgtpmv.mp4  0\n",
       "aapnvogymq.mp4  0\n",
       "abqwwspghj.mp4  0\n",
       "acqfdwsrhi.mp4  1\n",
       "acxnxvbsxk.mp4  0\n",
       "...            ..\n",
       "etdcqxabww.mp4  1\n",
       "etejaapnxh.mp4  0\n",
       "etmcruaihe.mp4  0\n",
       "etohcvnzbj.mp4  1\n",
       "eukvucdetx.mp4  1\n",
       "\n",
       "[256 rows x 1 columns]"
      ]
     },
     "execution_count": 237,
     "metadata": {},
     "output_type": "execute_result"
    }
   ],
   "source": [
    "df_real"
   ]
  }
 ],
 "metadata": {
  "interpreter": {
   "hash": "e44d3dbc99e2d349f45ec8bb2a032e2373c7b6a7a829313fa9af53fb21fb918c"
  },
  "kernelspec": {
   "display_name": "Python 3.10.2 64-bit",
   "language": "python",
   "name": "python3"
  },
  "language_info": {
   "codemirror_mode": {
    "name": "ipython",
    "version": 3
   },
   "file_extension": ".py",
   "mimetype": "text/x-python",
   "name": "python",
   "nbconvert_exporter": "python",
   "pygments_lexer": "ipython3",
   "version": "3.10.2"
  },
  "orig_nbformat": 4
 },
 "nbformat": 4,
 "nbformat_minor": 2
}
