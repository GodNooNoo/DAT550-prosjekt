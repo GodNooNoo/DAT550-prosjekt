{
 "cells": [
  {
   "cell_type": "markdown",
   "metadata": {},
   "source": [
    "# Deepfake detection using GAN"
   ]
  },
  {
   "cell_type": "code",
   "execution_count": 31,
   "metadata": {},
   "outputs": [],
   "source": [
    "# Imports\n",
    "import numpy as np\n",
    "import torch\n",
    "import torchvision as tv\n",
    "import matplotlib.pyplot as plt\n",
    "from tqdm import tqdm\n",
    "import math"
   ]
  },
  {
   "cell_type": "markdown",
   "metadata": {},
   "source": [
    "Controlling seeds to control reproducability."
   ]
  },
  {
   "cell_type": "code",
   "execution_count": 32,
   "metadata": {},
   "outputs": [],
   "source": [
    "# Root directory for dataset\n",
    "dataroot = \"train/real\"\n",
    "\n",
    "# Number of workers for dataloader\n",
    "workers = 2\n",
    "\n",
    "# Batch size during training\n",
    "batch_size = 64\n",
    "\n",
    "# Spatial size of training images. All images will be resized to this\n",
    "#   size using a transformer.\n",
    "image_size = 64\n",
    "\n",
    "# Number of channels in the training images. For color images this is 3\n",
    "nc = 3\n",
    "\n",
    "# Size of z latent vector (i.e. size of generator input)\n",
    "nz = 100\n",
    "\n",
    "# Size of feature maps in generator\n",
    "ngf = 64\n",
    "\n",
    "# Size of feature maps in discriminator\n",
    "ndf = 64\n",
    "\n",
    "# Number of training epochs\n",
    "num_epochs = 10\n",
    "\n",
    "# Learning rate for optimizers\n",
    "lr = 0.0002\n",
    "\n",
    "# Beta1 hyperparam for Adam optimizers\n",
    "beta1 = 0.5\n",
    "\n",
    "# Number of GPUs available. Use 0 for CPU mode.\n",
    "ngpu = 1"
   ]
  },
  {
   "cell_type": "code",
   "execution_count": 33,
   "metadata": {},
   "outputs": [],
   "source": [
    "# We can use an image folder dataset the way we have it setup.\n",
    "# Create the dataset\n",
    "dataset = tv.datasets.ImageFolder(\n",
    "    root=dataroot,\n",
    "    transform=tv.transforms.Compose(\n",
    "        [\n",
    "            tv.transforms.Resize(image_size),\n",
    "            tv.transforms.CenterCrop(image_size),\n",
    "            tv.transforms.ToTensor(),\n",
    "            tv.transforms.Normalize((0.5, 0.5, 0.5), (0.5, 0.5, 0.5)),\n",
    "        ]\n",
    "    ),\n",
    ")\n",
    "# Create the dataloader\n",
    "dataloader = torch.utils.data.DataLoader(\n",
    "    dataset, batch_size=batch_size, shuffle=True, num_workers=workers\n",
    ")\n",
    "\n",
    "\n",
    "datasetfake = tv.datasets.ImageFolder(\n",
    "    root=\"train/fake\",\n",
    "    transform=tv.transforms.Compose(\n",
    "        [\n",
    "            tv.transforms.Resize(image_size),\n",
    "            tv.transforms.CenterCrop(image_size),\n",
    "            tv.transforms.ToTensor(),\n",
    "            tv.transforms.Normalize((0.5, 0.5, 0.5), (0.5, 0.5, 0.5)),\n",
    "        ]\n",
    "    ),\n",
    ")\n",
    "\n",
    "dataloaderfake = torch.utils.data.DataLoader(\n",
    "    datasetfake, batch_size=batch_size, shuffle=True, num_workers=workers\n",
    ")\n",
    "\n",
    "# Decide which device we want to run on\n",
    "device = torch.device(\"cuda:0\" if (torch.cuda.is_available() and ngpu > 0) else \"cpu\")"
   ]
  },
  {
   "cell_type": "code",
   "execution_count": 34,
   "metadata": {},
   "outputs": [],
   "source": [
    "# custom weights initialization called on netG and netD\n",
    "def weights_init(m):\n",
    "    classname = m.__class__.__name__\n",
    "    if classname.find('Conv') != -1:\n",
    "        torch.nn.init.normal_(m.weight.data, 0.0, 0.02)\n",
    "    elif classname.find('BatchNorm') != -1:\n",
    "        torch.nn.init.normal_(m.weight.data, 1.0, 0.02)\n",
    "        torch.nn.init.constant_(m.bias.data, 0)"
   ]
  },
  {
   "cell_type": "code",
   "execution_count": 35,
   "metadata": {},
   "outputs": [],
   "source": [
    "class Discriminator(torch.nn.Module):\n",
    "    def __init__(self, ngpu):\n",
    "        super(Discriminator, self).__init__()\n",
    "        self.ngpu = ngpu\n",
    "        self.main = torch.nn.Sequential(\n",
    "            # input is (nc) x 64 x 64\n",
    "            torch.nn.Conv2d(nc, ndf, 4, 2, 1, bias=False),\n",
    "            torch.nn.LeakyReLU(0.2, inplace=True),\n",
    "            # state size. (ndf) x 32 x 32\n",
    "            torch.nn.Conv2d(ndf, ndf * 2, 4, 2, 1, bias=False),\n",
    "            torch.nn.BatchNorm2d(ndf * 2),\n",
    "            torch.nn.LeakyReLU(0.2, inplace=True),\n",
    "            # state size. (ndf*2) x 16 x 16\n",
    "            torch.nn.Conv2d(ndf * 2, ndf * 4, 4, 2, 1, bias=False),\n",
    "            torch.nn.BatchNorm2d(ndf * 4),\n",
    "            torch.nn.LeakyReLU(0.2, inplace=True),\n",
    "            # state size. (ndf*4) x 8 x 8\n",
    "            torch.nn.Conv2d(ndf * 4, ndf * 8, 4, 2, 1, bias=False),\n",
    "            torch.nn.BatchNorm2d(ndf * 8),\n",
    "            torch.nn.LeakyReLU(0.2, inplace=True),\n",
    "            # state size. (ndf*8) x 4 x 4\n",
    "            torch.nn.Conv2d(ndf * 8, 1, 4, 1, 0, bias=False),\n",
    "            torch.nn.Sigmoid()\n",
    "        )\n",
    "\n",
    "    def forward(self, input):\n",
    "        return self.main(input)"
   ]
  },
  {
   "cell_type": "code",
   "execution_count": 36,
   "metadata": {},
   "outputs": [
    {
     "name": "stdout",
     "output_type": "stream",
     "text": [
      "Discriminator(\n",
      "  (main): Sequential(\n",
      "    (0): Conv2d(3, 64, kernel_size=(4, 4), stride=(2, 2), padding=(1, 1), bias=False)\n",
      "    (1): LeakyReLU(negative_slope=0.2, inplace=True)\n",
      "    (2): Conv2d(64, 128, kernel_size=(4, 4), stride=(2, 2), padding=(1, 1), bias=False)\n",
      "    (3): BatchNorm2d(128, eps=1e-05, momentum=0.1, affine=True, track_running_stats=True)\n",
      "    (4): LeakyReLU(negative_slope=0.2, inplace=True)\n",
      "    (5): Conv2d(128, 256, kernel_size=(4, 4), stride=(2, 2), padding=(1, 1), bias=False)\n",
      "    (6): BatchNorm2d(256, eps=1e-05, momentum=0.1, affine=True, track_running_stats=True)\n",
      "    (7): LeakyReLU(negative_slope=0.2, inplace=True)\n",
      "    (8): Conv2d(256, 512, kernel_size=(4, 4), stride=(2, 2), padding=(1, 1), bias=False)\n",
      "    (9): BatchNorm2d(512, eps=1e-05, momentum=0.1, affine=True, track_running_stats=True)\n",
      "    (10): LeakyReLU(negative_slope=0.2, inplace=True)\n",
      "    (11): Conv2d(512, 1, kernel_size=(4, 4), stride=(1, 1), bias=False)\n",
      "    (12): Sigmoid()\n",
      "  )\n",
      ")\n"
     ]
    }
   ],
   "source": [
    "# Create the Discriminator\n",
    "netD = Discriminator(ngpu).to(device)\n",
    "\n",
    "# Handle multi-gpu if desired\n",
    "if (device.type == 'cuda') and (ngpu > 1):\n",
    "    netD = torch.nn.DataParallel(netD, list(range(ngpu)))\n",
    "\n",
    "# Apply the weights_init function to randomly initialize all weights\n",
    "#  to mean=0, stdev=0.2.\n",
    "netD.apply(weights_init)\n",
    "\n",
    "# Print the model\n",
    "print(netD)"
   ]
  },
  {
   "cell_type": "code",
   "execution_count": 37,
   "metadata": {},
   "outputs": [],
   "source": [
    "# Initialize BCELoss function\n",
    "criterion = torch.nn.BCELoss()\n",
    "\n",
    "# Create batch of latent vectors that we will use to visualize\n",
    "#  the progression of the generator\n",
    "fixed_noise = torch.randn(64, nz, 1, 1, device=device)\n",
    "\n",
    "# Establish convention for real and fake labels during training\n",
    "real_label = 1.0\n",
    "fake_label = 0.0\n",
    "\n",
    "# Setup Adam optimizers for D\n",
    "optimizerD = torch.optim.Adam(netD.parameters(), lr=lr, betas=(beta1, 0.999))"
   ]
  },
  {
   "cell_type": "code",
   "execution_count": 38,
   "metadata": {},
   "outputs": [
    {
     "name": "stderr",
     "output_type": "stream",
     "text": [
      "229it [03:54,  1.02s/it]\n",
      "229it [03:52,  1.01s/it]\n",
      "229it [03:52,  1.02s/it]\n",
      "229it [03:44,  1.02it/s]\n",
      "229it [03:45,  1.01it/s]\n",
      "229it [03:23,  1.13it/s]\n",
      "229it [03:20,  1.14it/s]\n",
      "229it [03:19,  1.15it/s]\n",
      "229it [03:21,  1.13it/s]\n",
      "229it [03:19,  1.15it/s]\n"
     ]
    }
   ],
   "source": [
    "# Training Loop\n",
    "\n",
    "# Lists to keep track of progress\n",
    "img_list = []\n",
    "D_losses = []\n",
    "# For each epoch\n",
    "for epoch in range(num_epochs):\n",
    "    itfake = iter(dataloaderfake)\n",
    "    # For each batch in the dataloader\n",
    "    for i, data in tqdm(enumerate(dataloader)):\n",
    "        ############################\n",
    "        # (1) Update D network: maximize log(D(x)) + log(1 - D(G(z)))\n",
    "        ###########################\n",
    "        ## Train with all-real batch\n",
    "        netD.zero_grad()\n",
    "        # Format batch\n",
    "        real_cpu = data[0].to(device)\n",
    "        b_size = real_cpu.size(0)\n",
    "        label = torch.full((b_size,), real_label, dtype=torch.float, device=device)\n",
    "        # Forward pass real batch through D\n",
    "        output = netD(real_cpu).view(-1)\n",
    "        # Calculate loss on all-real batch\n",
    "        errD_real = criterion(output, label)\n",
    "        # Calculate gradients for D in backward pass\n",
    "        errD_real.backward()\n",
    "        D_x = output.mean().item()\n",
    "\n",
    "        ## Train with all-fake batch\n",
    "        fake_cpu = next(itfake)[0].to(device)\n",
    "        b_size = fake_cpu.size(0)\n",
    "        label = torch.full((b_size,), fake_label, dtype=torch.float, device=device)\n",
    "        # Classify all fake batch with D\n",
    "        output = netD(fake_cpu).view(-1)\n",
    "        # Calculate D's loss on the all-fake batch\n",
    "        errD_fake = criterion(output, label)\n",
    "        # Calculate the gradients for this batch, accumulated (summed) with previous gradients\n",
    "        errD_fake.backward()\n",
    "        D_G_z1 = output.mean().item()\n",
    "        # Compute error of D as sum over the fake and the real batches\n",
    "        errD = errD_real + errD_fake\n",
    "        # Update D\n",
    "        optimizerD.step()\n",
    "\n",
    "        # Save Losses for plotting later\n",
    "        D_losses.append(errD.item())"
   ]
  },
  {
   "cell_type": "code",
   "execution_count": 39,
   "metadata": {},
   "outputs": [
    {
     "data": {
      "image/png": "[encoded data removed]",
      "text/plain": [
       "<Figure size 720x360 with 1 Axes>"
      ]
     },
     "metadata": {
      "needs_background": "light"
     },
     "output_type": "display_data"
    }
   ],
   "source": [
    "plt.figure(figsize=(10, 5))\n",
    "plt.title(\"Discriminator Loss\")\n",
    "plt.plot(D_losses, label=\"D\")\n",
    "plt.xlabel(\"iterations\")\n",
    "plt.ylabel(\"Loss\")\n",
    "plt.legend()\n",
    "plt.show()\n"
   ]
  },
  {
   "cell_type": "code",
   "execution_count": 40,
   "metadata": {},
   "outputs": [
    {
     "data": {
      "text/plain": [
       "Discriminator(\n",
       "  (main): Sequential(\n",
       "    (0): Conv2d(3, 64, kernel_size=(4, 4), stride=(2, 2), padding=(1, 1), bias=False)\n",
       "    (1): LeakyReLU(negative_slope=0.2, inplace=True)\n",
       "    (2): Conv2d(64, 128, kernel_size=(4, 4), stride=(2, 2), padding=(1, 1), bias=False)\n",
       "    (3): BatchNorm2d(128, eps=1e-05, momentum=0.1, affine=True, track_running_stats=True)\n",
       "    (4): LeakyReLU(negative_slope=0.2, inplace=True)\n",
       "    (5): Conv2d(128, 256, kernel_size=(4, 4), stride=(2, 2), padding=(1, 1), bias=False)\n",
       "    (6): BatchNorm2d(256, eps=1e-05, momentum=0.1, affine=True, track_running_stats=True)\n",
       "    (7): LeakyReLU(negative_slope=0.2, inplace=True)\n",
       "    (8): Conv2d(256, 512, kernel_size=(4, 4), stride=(2, 2), padding=(1, 1), bias=False)\n",
       "    (9): BatchNorm2d(512, eps=1e-05, momentum=0.1, affine=True, track_running_stats=True)\n",
       "    (10): LeakyReLU(negative_slope=0.2, inplace=True)\n",
       "    (11): Conv2d(512, 1, kernel_size=(4, 4), stride=(1, 1), bias=False)\n",
       "    (12): Sigmoid()\n",
       "  )\n",
       ")"
      ]
     },
     "execution_count": 40,
     "metadata": {},
     "output_type": "execute_result"
    }
   ],
   "source": [
    "netD.eval()"
   ]
  },
  {
   "cell_type": "code",
   "execution_count": 41,
   "metadata": {},
   "outputs": [],
   "source": [
    "def predict_folder(path):\n",
    "    videos = tv.datasets.ImageFolder(\n",
    "        root=path,\n",
    "        transform=tv.transforms.Compose(\n",
    "            [\n",
    "                tv.transforms.Resize(image_size),\n",
    "                tv.transforms.CenterCrop(image_size),\n",
    "                tv.transforms.ToTensor(),\n",
    "                tv.transforms.Normalize((0.5, 0.5, 0.5), (0.5, 0.5, 0.5)),\n",
    "            ]\n",
    "        ),\n",
    "    )\n",
    "\n",
    "    for ind, val in videos.class_to_idx.items():\n",
    "        low = math.inf\n",
    "        high = -1\n",
    "        for i, ele in enumerate(videos.imgs):\n",
    "            _, idx = ele\n",
    "            if idx == val:\n",
    "                if i < low:\n",
    "                    low = i\n",
    "                if i > high:\n",
    "                    high = i\n",
    "        video = torch.utils.data.Subset(videos, range(low, high))\n",
    "        results = []\n",
    "        for frame in video:\n",
    "            frame = frame[0]\n",
    "            frame = frame.view(1, *frame.shape)\n",
    "            results.append(netD(frame).view(-1).item())\n",
    "        print(ind, round(np.mean(results)))\n"
   ]
  },
  {
   "cell_type": "code",
   "execution_count": 42,
   "metadata": {},
   "outputs": [
    {
     "name": "stdout",
     "output_type": "stream",
     "text": [
      "aeolxtsnfc.mp4 0.5905589994952631\n",
      "aevbmlbayq.mp4 0.6759592888888365\n",
      "ahanoygyei.mp4 0.19759264005033492\n",
      "ahpnrwwibe.mp4 0.15384173472157933\n",
      "alrhucxcnv.mp4 0.13839082386554769\n",
      "alypwytrnl.mp4 0.5351399360193456\n",
      "andnipfbgy.mp4 0.8584229563221787\n",
      "annsmfhdgk.mp4 0.518357077272014\n",
      "anzenqcwqo.mp4 0.8192782728144756\n",
      "apansjedym.mp4 0.5777808462034513\n",
      "arwiyweadv.mp4 0.9482235454801303\n",
      "atedpzfvyf.mp4 0.746969811984543\n",
      "atuzsraaul.mp4 0.1652885067368639\n",
      "avttogwbyz.mp4 0.22007197718584542\n"
     ]
    }
   ],
   "source": [
    "predict_folder('test_set/real')"
   ]
  },
  {
   "cell_type": "code",
   "execution_count": 43,
   "metadata": {},
   "outputs": [
    {
     "name": "stdout",
     "output_type": "stream",
     "text": [
      "abdgairkrk.mp4 0.33292667494088807\n",
      "abgrdkbhch.mp4 0.4889192778031563\n",
      "abmdetdeok.mp4 0.5790376174310378\n",
      "abteztchqz.mp4 0.24500866684723985\n",
      "accfrqkrni.mp4 0.09813486892316077\n",
      "acekgkqgdg.mp4 0.34401717920940256\n",
      "acgyspwyqr.mp4 0.16146630451704064\n",
      "achekamhkd.mp4 0.14079504231499\n",
      "acqawykwfs.mp4 0.6637584320627726\n",
      "adfufsvmcl.mp4 0.38571618486158427\n",
      "adtftvevja.mp4 0.28750328908995243\n",
      "advhlnfwag.mp4 0.005666827544664677\n",
      "aebrgxdalw.mp4 0.5127844590456988\n",
      "aednqykqfh.mp4 0.6846135742713177\n",
      "aegeiboeus.mp4 0.9082099830867439\n",
      "aeplbqxnge.mp4 0.4259011343021855\n",
      "aezujunliw.mp4 0.9942344278097153\n",
      "afaxsgqksm.mp4 0.5706606372633333\n",
      "afwakzqdin.mp4 0.5697233021558328\n",
      "afynesbqqg.mp4 0.9593592156966527\n",
      "agblhurdrh.mp4 0.22196758176545833\n",
      "aglqdsqmim.mp4 0.0976160824516456\n",
      "agyawnxlmv.mp4 0.8097663615632245\n",
      "ahcptgydid.mp4 0.9071844589225081\n",
      "ahvroxnbbr.mp4 0.0976197335582513\n",
      "aiaxyavqce.mp4 0.3946193940648737\n",
      "aigufxcoyu.mp4 0.43507490665916615\n",
      "akcebajhgd.mp4 0.24736512096753965\n",
      "akdqrdkelr.mp4 0.23026798489062408\n",
      "aknrpivxgd.mp4 0.7369171039615586\n",
      "alddoocxqo.mp4 0.2934515864205201\n",
      "alevzwjovd.mp4 0.6005532405647546\n",
      "altqelkpqj.mp4 0.9810921847820282\n",
      "alvymawvku.mp4 0.688484255735292\n",
      "amdrqfyqgr.mp4 0.769991614137377\n",
      "amlkmjcbsg.mp4 0.4234108690185414\n",
      "amoyritjif.mp4 0.35043059775362845\n",
      "ampwuteugc.mp4 0.594658476353489\n",
      "anaykjgpmk.mp4 0.9837394035176227\n",
      "anpptpyvxe.mp4 0.7747342173822622\n",
      "aodrcrvodk.mp4 0.010794985760245021\n",
      "aoiejhrhmt.mp4 0.5102653051897833\n",
      "aomhbqppxn.mp4 0.810072579586187\n",
      "aozliqzela.mp4 0.6083100451075513\n",
      "apasrbjbwu.mp4 0.5199582004626858\n",
      "apfribzdle.mp4 0.9997626130397503\n",
      "apfwbpnetp.mp4 0.44253009961297113\n",
      "apojgziubj.mp4 0.6329433399199642\n",
      "apztusvlxo.mp4 0.47493447071394407\n",
      "aqfnbkwyct.mp4 0.19542566666044064\n",
      "aqixnwknzx.mp4 0.291857507156824\n",
      "aqpcbawfuc.mp4 0.4773640407679173\n",
      "aqpfnbapix.mp4 0.9697883344929794\n",
      "arjihnnsxp.mp4 0.8645923127388132\n",
      "aruyyclubn.mp4 0.5788221034567093\n",
      "asarlqgmqi.mp4 3.055352153751301e-06\n",
      "asewluvyef.mp4 nan\n"
     ]
    },
    {
     "name": "stderr",
     "output_type": "stream",
     "text": [
      "c:\\Users\\NooNoo\\AppData\\Local\\Programs\\Python\\Python310\\lib\\site-packages\\numpy\\core\\fromnumeric.py:3474: RuntimeWarning: Mean of empty slice.\n",
      "  return _methods._mean(a, axis=axis, dtype=dtype,\n",
      "c:\\Users\\NooNoo\\AppData\\Local\\Programs\\Python\\Python310\\lib\\site-packages\\numpy\\core\\_methods.py:189: RuntimeWarning: invalid value encountered in double_scalars\n",
      "  ret = ret.dtype.type(ret / rcount)\n"
     ]
    },
    {
     "name": "stdout",
     "output_type": "stream",
     "text": [
      "aslagfljgq.mp4 0.12627369571611824\n",
      "aspxqtipuv.mp4 0.2434071288701072\n",
      "aswtwwuiva.mp4 0.769817958585918\n",
      "asyjnjjldz.mp4 0.05818108767167539\n",
      "atmalptsdf.mp4 0.19968847752574626\n",
      "atoeqixpui.mp4 0.6691908991855123\n",
      "atqtjhcjok.mp4 0.6416502189401998\n",
      "aufudlkirv.mp4 0.1656785376213196\n",
      "auyrrevsns.mp4 0.15972212076414632\n",
      "auysreeedq.mp4 0.6035452732443809\n",
      "avlbihahvk.mp4 0.8421412706375122\n",
      "avmrqfwizg.mp4 0.07787714603832586\n",
      "avqxrnfzpd.mp4 0.8576316237449646\n",
      "avtdwylihb.mp4 nan\n",
      "awifeyjgpb.mp4 0.0644773578327336\n",
      "awzgjaqzyu.mp4 0.9190569953484968\n"
     ]
    }
   ],
   "source": [
    "predict_folder('test_set/fake')"
   ]
  }
 ],
 "metadata": {
  "interpreter": {
   "hash": "e44d3dbc99e2d349f45ec8bb2a032e2373c7b6a7a829313fa9af53fb21fb918c"
  },
  "kernelspec": {
   "display_name": "Python 3.10.2 64-bit",
   "language": "python",
   "name": "python3"
  },
  "language_info": {
   "codemirror_mode": {
    "name": "ipython",
    "version": 3
   },
   "file_extension": ".py",
   "mimetype": "text/x-python",
   "name": "python",
   "nbconvert_exporter": "python",
   "pygments_lexer": "ipython3",
   "version": "3.10.2"
  },
  "orig_nbformat": 4
 },
 "nbformat": 4,
 "nbformat_minor": 2
}
