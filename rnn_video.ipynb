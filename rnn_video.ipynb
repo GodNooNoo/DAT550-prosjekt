{
 "cells": [
  {
   "cell_type": "code",
   "execution_count": null,
   "metadata": {},
   "outputs": [],
   "source": [
    "import pandas as pd\n",
    "import matplotlib\n",
    "from tensorflow.keras.models import Sequential\n",
    "from tensorflow.keras.layers import Dense, Dropout, ConvLSTM2D,MaxPooling3D,Flatten\n",
    "from sklearn.metrics import classification_report\n",
    "import matplotlib.pyplot as plt\n",
    "import numpy as np\n",
    "import tensorflow as tf\n",
    "import keras\n",
    "from tensorflow.keras.preprocessing.image import ImageDataGenerator"
   ]
  },
  {
   "cell_type": "code",
   "execution_count": null,
   "metadata": {},
   "outputs": [],
   "source": [
    "IMAGE_SIZE = (124,124)"
   ]
  },
  {
   "cell_type": "code",
   "execution_count": null,
   "metadata": {},
   "outputs": [],
   "source": [
    "# Create the image generatorstrain_datagen = ImageDataGenerator(\n",
    "train_datagen = ImageDataGenerator(\n",
    "    rescale=1./255,\n",
    "        shear_range=0.2,\n",
    "        zoom_range=0.2,\n",
    "        horizontal_flip=True)\n",
    "\n",
    "val_datagen = ImageDataGenerator(rescale=1./255)\n",
    "\n",
    "# Create the image generators\n",
    "train_generator = train_datagen.flow_from_directory(\n",
    "    'Data/train/train',\n",
    "    target_size=IMAGE_SIZE,\n",
    "    batch_size=128,\n",
    "    class_mode='binary')\n",
    "\n",
    "val_generator = val_datagen.flow_from_directory(\n",
    "    'Data/test_set/test_set/',  \n",
    "    target_size=IMAGE_SIZE, \n",
    "    batch_size=128,\n",
    "    class_mode='binary')"
   ]
  },
  {
   "cell_type": "code",
   "execution_count": null,
   "metadata": {},
   "outputs": [],
   "source": [
    "from tweaked_ImageGenerator_v2 import ImageDataGenerator\n",
    "datagen = ImageDataGenerator()\n",
    "train_data=datagen.flow_from_directory('Data/train/train', target_size=(128, 128), batch_size=32, frames_per_step=4)\n",
    "val_data= datagen.flow_from_directory('Data/test_set/test_set', target_size=(128, 128), batch_size=32, frames_per_step=4)"
   ]
  },
  {
   "cell_type": "code",
   "execution_count": null,
   "metadata": {},
   "outputs": [],
   "source": [
    "def img_gen(input_gen,axis):  \n",
    "    images, labels=next(input_gen) # get the next batch of images and labels\n",
    "    #images=np.expand_dims(images,axis=axis) # expand dimensions of the images\n",
    "    yield (images, labels ) #  output a batch of tuples to model.fit\n",
    "# showing dimension of images have been expanded    \n",
    "train_x, train_y=next(img_gen(train_data, axis=4))\n",
    "test_x,test_y = next(img_gen(val_data, axis=4))"
   ]
  },
  {
   "cell_type": "code",
   "execution_count": null,
   "metadata": {},
   "outputs": [],
   "source": [
    "train_x.shape"
   ]
  },
  {
   "cell_type": "code",
   "execution_count": null,
   "metadata": {},
   "outputs": [],
   "source": [
    "rnn = Sequential()\n",
    "rnn.add(ConvLSTM2D(filters=20, input_shape= (4,128,128, 3),padding = \"same\",kernel_size=3 , data_format='channels_last'\n",
    "                       , activation='tanh',return_sequences=True))\n",
    "rnn.add(Dropout(0.5))\n",
    "rnn.add(MaxPooling3D(pool_size=(1, 2, 2), padding='same', data_format='channels_last'))\n",
    "rnn.add(Dropout(0.5))\n",
    "rnn.add(ConvLSTM2D(filters=20,padding = \"same\",kernel_size=3 , data_format='channels_last'\n",
    "                       , activation='tanh',return_sequences=True))\n",
    "rnn.add(Dropout(0.5))\n",
    "rnn.add(MaxPooling3D(pool_size=(1, 2, 2), padding='same', data_format='channels_last'))\n",
    "rnn.add(Flatten())\n",
    "rnn.add(Dense(2, activation='softmax'))\n",
    "rnn.summary()\n",
    "#softmax"
   ]
  },
  {
   "cell_type": "code",
   "execution_count": null,
   "metadata": {},
   "outputs": [],
   "source": [
    "opt = tf.keras.optimizers.Adam(learning_rate=1e-6, decay=1e-6)\n",
    "rnn.compile(\n",
    "    loss='mse',\n",
    "    optimizer=opt,\n",
    "    metrics=[\"accuracy\"],\n",
    "    run_eagerly=True\n",
    ")"
   ]
  },
  {
   "cell_type": "code",
   "execution_count": null,
   "metadata": {},
   "outputs": [],
   "source": [
    "epochs = 30\n",
    "batches = 15\n",
    "total_train_batches = len(train_x)//batches\n",
    "total_val_batches = len(test_x)//batches"
   ]
  },
  {
   "cell_type": "code",
   "execution_count": null,
   "metadata": {},
   "outputs": [],
   "source": [
    "with tf.device('/GPU:0'):\n",
    "    history = rnn.fit( x= train_x, y = train_y,\n",
    "            epochs=30,\n",
    "            steps_per_epoch = 128,\n",
    "            validation_data=(test_x,test_y),\n",
    "            )"
   ]
  },
  {
   "cell_type": "code",
   "execution_count": null,
   "metadata": {},
   "outputs": [],
   "source": [
    "print(\"[INFO] evaluating network...\")\n",
    "predIdxs = rnn.predict(test_x, batch_size=128)\n",
    "predIdx = np.round(predIdxs).astype(int)\n",
    "# show a nicely formatted classification report\n",
    "print(classification_report(test_y, predIdx,target_names=['fake','real']))"
   ]
  },
  {
   "cell_type": "code",
   "execution_count": null,
   "metadata": {},
   "outputs": [],
   "source": [
    "import keras\n",
    "from matplotlib import pyplot as plt\n",
    "%matplotlib inline\n",
    "plt.plot(history.history['accuracy'])\n",
    "plt.plot(history.history['val_accuracy'])\n",
    "plt.title('model accuracy')\n",
    "plt.ylabel('accuracy')\n",
    "plt.xlabel('epoch')\n",
    "plt.legend(['train', 'val'], loc='upper left')\n",
    "plt.show()"
   ]
  },
  {
   "cell_type": "code",
   "execution_count": null,
   "metadata": {},
   "outputs": [],
   "source": [
    "plt.plot(history.history['loss'])\n",
    "plt.plot(history.history['val_loss'])\n",
    "plt.title('model loss')\n",
    "plt.ylabel('loss')\n",
    "plt.xlabel('epoch')\n",
    "plt.legend(['train', 'val'], loc='upper left')\n",
    "plt.show()"
   ]
  },
  {
   "cell_type": "code",
   "execution_count": null,
   "metadata": {},
   "outputs": [],
   "source": [
    "rnn.save('cnnrnn1.h5')  # creates a HDF5 file 'my_model.h5'"
   ]
  }
 ],
 "metadata": {
  "interpreter": {
   "hash": "f5986018b863956804bf7277330effb330965162b5e12e14637fe141d86e0edf"
  },
  "kernelspec": {
   "display_name": "Python 3.9.10 64-bit ('base': conda)",
   "name": "python3"
  },
  "language_info": {
   "codemirror_mode": {
    "name": "ipython",
    "version": 3
   },
   "file_extension": ".py",
   "mimetype": "text/x-python",
   "name": "python",
   "nbconvert_exporter": "python",
   "pygments_lexer": "ipython3",
   "version": "3.9.12"
  },
  "orig_nbformat": 4
 },
 "nbformat": 4,
 "nbformat_minor": 2
}