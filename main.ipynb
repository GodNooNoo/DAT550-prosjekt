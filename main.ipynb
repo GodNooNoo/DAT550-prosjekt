{
 "cells": [
  {
   "cell_type": "code",
   "execution_count": null,
   "metadata": {},
   "outputs": [],
   "source": [
    "import pandas as pd\n",
    "import seaborn as sns\n",
    "import matplotlib.style as style\n",
    "import numpy as np"
   ]
  },
  {
   "cell_type": "code",
   "execution_count": null,
   "metadata": {},
   "outputs": [],
   "source": [
    "# Configure plots\n",
    "style.use('seaborn-poster')\n",
    "style.use('ggplot')"
   ]
  },
  {
   "cell_type": "code",
   "execution_count": null,
   "metadata": {},
   "outputs": [],
   "source": [
    "# Read metadata file\n",
    "metadata = pd.read_json(\"train_sample_videos/metadata.json\")"
   ]
  },
  {
   "cell_type": "code",
   "execution_count": null,
   "metadata": {},
   "outputs": [],
   "source": [
    "# Plot count of real vs false\n",
    "real = metadata.loc[\"label\"] == \"REAL\"\n",
    "x = [False, True]\n",
    "values = real.value_counts().to_numpy()\n",
    "sns.barplot(x=x, y=values)"
   ]
  },
  {
   "cell_type": "code",
   "execution_count": null,
   "metadata": {},
   "outputs": [],
   "source": [
    "# Plot as percentage\n",
    "values = np.divide(values, values.sum()) * 100\n",
    "x = [False, True]\n",
    "sns.barplot(x=x, y=values)"
   ]
  }
 ],
 "metadata": {
  "interpreter": {
   "hash": "9ea99e2f38a032dd54ca3762d99d409299cdc58c4f03a8eb0e45b6525f99716f"
  },
  "kernelspec": {
   "display_name": "Python 3.10.0 64-bit",
   "language": "python",
   "name": "python3"
  },
  "language_info": {
   "codemirror_mode": {
    "name": "ipython",
    "version": 3
   },
   "file_extension": ".py",
   "mimetype": "text/x-python",
   "name": "python",
   "nbconvert_exporter": "python",
   "pygments_lexer": "ipython3",
   "version": "3.10.0"
  },
  "orig_nbformat": 4
 },
 "nbformat": 4,
 "nbformat_minor": 2
}
