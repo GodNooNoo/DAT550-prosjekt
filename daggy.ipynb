{
 "cells": [
  {
   "cell_type": "code",
   "execution_count": 67,
   "metadata": {},
   "outputs": [],
   "source": [
    "# TensorFlow and TF-Hub modules.\n",
    "from absl import logging\n",
    "\n",
    "import tensorflow as tf\n",
    "import tensorflow.keras as keras\n",
    "from tensorflow.keras.models import Sequential\n",
    "from tensorflow.keras.layers import Dense, Conv2D, Flatten, Dropout, MaxPooling2D\n",
    "from tensorflow.keras.preprocessing.image import ImageDataGenerator\n",
    "from tensorflow.keras.optimizers import Adam\n",
    "from tensorflow.keras.callbacks import ModelCheckpoint\n",
    "from tensorflow.keras.models import load_model\n",
    "\n",
    "from collections import defaultdict\n",
    "\n",
    "\n",
    "logging.set_verbosity(logging.ERROR)\n",
    "\n",
    "# Some modules to help with reading the dataset.\n",
    "import pandas as pd\n",
    "import numpy as np\n",
    "\n",
    "# Some modules to display an animation using imageio.\n",
    "import imageio\n",
    "from IPython import display\n"
   ]
  },
  {
   "cell_type": "code",
   "execution_count": 72,
   "metadata": {},
   "outputs": [],
   "source": [
    "class DeepFakeDetectionNeuralNetwork():\n",
    "    def __init__(self, input_shape, batch_size=32):\n",
    "        self.input_shape = input_shape\n",
    "        self.model = self.create_model()\n",
    "        self.batch_size = batch_size\n",
    "        self.model.compile(loss='binary_crossentropy',\n",
    "                    optimizer=Adam(learning_rate=0.001),\n",
    "                    metrics=['accuracy'])\n",
    "        self.predictions = None\n",
    "        \n",
    "        # Create the image generators\n",
    "        self.train_datagen = ImageDataGenerator(\n",
    "            rescale=1./255,\n",
    "            rotation_range=20,\n",
    "            width_shift_range=0.2,\n",
    "            height_shift_range=0.2,\n",
    "            shear_range=0.2,\n",
    "            zoom_range=0.2,\n",
    "            horizontal_flip=True,\n",
    "            fill_mode='nearest')\n",
    "        \n",
    "        self.val_datagen = ImageDataGenerator(rescale=1./255)\n",
    "        \n",
    "        # Create the image generators\n",
    "        self.train_generator = self.train_datagen.flow_from_directory(\n",
    "            'train_frames/',  \n",
    "            target_size=(150, 150),\n",
    "            batch_size=self.batch_size,\n",
    "            class_mode='binary')\n",
    "        \n",
    "        self.val_generator = self.val_datagen.flow_from_directory(\n",
    "            'train_frames/',  \n",
    "            target_size=(150, 150), \n",
    "            batch_size=self.batch_size,\n",
    "            class_mode='binary')\n",
    "     \n",
    "    def create_model(self):\n",
    "        model = Sequential()\n",
    "        model.add(Conv2D(32, (3, 3), activation='relu',\n",
    "                            input_shape=self.input_shape))\n",
    "        model.add(MaxPooling2D((2, 2)))\n",
    "        model.add(Conv2D(64, (3, 3), activation='relu'))\n",
    "        model.add(MaxPooling2D((2, 2)))\n",
    "        model.add(Conv2D(128, (3, 3), activation='relu'))\n",
    "        model.add(MaxPooling2D((2, 2)))\n",
    "        model.add(Flatten())\n",
    "        model.add(Dense(512, activation='relu'))    \n",
    "        model.add(Dropout(0.5))\n",
    "        model.add(Dense(1, activation='sigmoid'))\n",
    "        return model\n",
    "    \n",
    "    def train_model(self, epochs=10):\n",
    "        self.model.fit(\n",
    "            self.train_generator,\n",
    "            epochs=epochs,\n",
    "            validation_data=self.val_generator,\n",
    "            )\n",
    "        self.model.save(f\"{self.__class__.__name__}{self.batch_size}.h5\")\n",
    "        \n",
    "    def predict(self):\n",
    "        test_datagen = ImageDataGenerator()\n",
    "\n",
    "        test_generator = test_datagen.flow_from_directory(\n",
    "            'test_frames/',\n",
    "            target_size=(150, 150),\n",
    "            shuffle=False,\n",
    "            batch_size=1,\n",
    "            class_mode='binary')\n",
    "\n",
    "        filenames = test_generator.filenames\n",
    "        n = len(filenames)\n",
    "\n",
    "        pred = deepfakedetection.model.predict_generator(test_generator, steps=n)\n",
    "        \n",
    "        vidoes = defaultdict(list)\n",
    "        for i, path in enumerate(filenames):\n",
    "            vid = path.split(\"\\\\\")[1]\n",
    "            vidoes[vid].append(i)\n",
    "\n",
    "        predictions = {}\n",
    "        for vid in vidoes:\n",
    "            predictions[vid] = np.mean(pred[vidoes[vid]])\n",
    "        \n",
    "        return predictions\n",
    "    \n",
    "    def get_accuracy(self, predictions):\n",
    "        \n",
    "        # round predictions dict to 0 or 1\n",
    "        predictions = {k: int(round(v)) for k, v in predictions}\n",
    "        predictions\n",
    "        # Check the accuracy of the model by comparing the predictions to the ground truth. 0 is fake, 1 is real.\n",
    "        labels = pd.read_json('test_frames/metadata.json')\n",
    "\n",
    "        correct = 0\n",
    "        for k in predictions.keys():\n",
    "            if labels[k]['label'] == \"FAKE\":\n",
    "                if predictions[k] == 1:\n",
    "                    correct += 1\n",
    "            else:\n",
    "                if predictions[k] == 0:\n",
    "                    correct += 1\n",
    "\n",
    "        accuracy = correct / len(predictions)\n",
    "        return accuracy"
   ]
  },
  {
   "cell_type": "code",
   "execution_count": 69,
   "metadata": {},
   "outputs": [
    {
     "name": "stdout",
     "output_type": "stream",
     "text": [
      "Found 119974 images belonging to 2 classes.\n",
      "Found 119974 images belonging to 2 classes.\n",
      "Epoch 1/10\n",
      "1875/1875 [==============================] - 2862s 2s/step - loss: 0.4430 - accuracy: 0.8102 - val_loss: 0.4101 - val_accuracy: 0.8174\n",
      "Epoch 2/10\n",
      "1875/1875 [==============================] - 2709s 1s/step - loss: 0.4107 - accuracy: 0.8179 - val_loss: 0.3875 - val_accuracy: 0.8206\n",
      "Epoch 3/10\n",
      "1875/1875 [==============================] - 2657s 1s/step - loss: 0.3951 - accuracy: 0.8213 - val_loss: 0.4018 - val_accuracy: 0.8221\n",
      "Epoch 4/10\n",
      "1875/1875 [==============================] - 2651s 1s/step - loss: 0.3850 - accuracy: 0.8253 - val_loss: 0.3646 - val_accuracy: 0.8308\n",
      "Epoch 5/10\n",
      "1875/1875 [==============================] - 2675s 1s/step - loss: 0.3780 - accuracy: 0.8266 - val_loss: 0.3725 - val_accuracy: 0.8264\n",
      "Epoch 6/10\n",
      "1875/1875 [==============================] - 2692s 1s/step - loss: 0.3678 - accuracy: 0.8287 - val_loss: 0.3540 - val_accuracy: 0.8307\n",
      "Epoch 7/10\n",
      "1875/1875 [==============================] - 2669s 1s/step - loss: 0.3595 - accuracy: 0.8306 - val_loss: 0.3445 - val_accuracy: 0.8383\n",
      "Epoch 8/10\n",
      "1875/1875 [==============================] - 2700s 1s/step - loss: 0.3508 - accuracy: 0.8338 - val_loss: 0.3247 - val_accuracy: 0.8428\n",
      "Epoch 9/10\n",
      "1875/1875 [==============================] - 2659s 1s/step - loss: 0.3391 - accuracy: 0.8368 - val_loss: 0.3054 - val_accuracy: 0.8454\n",
      "Epoch 10/10\n",
      "1875/1875 [==============================] - 2648s 1s/step - loss: 0.3251 - accuracy: 0.8419 - val_loss: 0.2986 - val_accuracy: 0.8427\n"
     ]
    }
   ],
   "source": [
    "deepfakedetection = DeepFakeDetectionNeuralNetwork((150, 150, 3), 64)\n",
    "deepfakedetection.train_model()"
   ]
  },
  {
   "cell_type": "code",
   "execution_count": 71,
   "metadata": {},
   "outputs": [
    {
     "name": "stdout",
     "output_type": "stream",
     "text": [
      "Found 24268 images belonging to 2 classes.\n"
     ]
    },
    {
     "name": "stderr",
     "output_type": "stream",
     "text": [
      "C:\\Users\\Dvalv\\AppData\\Local\\Temp/ipykernel_10784/3771048304.py:73: UserWarning: `Model.predict_generator` is deprecated and will be removed in a future version. Please use `Model.predict`, which supports generators.\n",
      "  pred = deepfakedetection.model.predict_generator(test_generator, steps=n)\n"
     ]
    }
   ],
   "source": [
    "predictions = deepfakedetection.predict()"
   ]
  },
  {
   "cell_type": "code",
   "execution_count": 78,
   "metadata": {},
   "outputs": [
    {
     "ename": "ValueError",
     "evalue": "too many values to unpack (expected 2)",
     "output_type": "error",
     "traceback": [
      "\u001b[1;31m---------------------------------------------------------------------------\u001b[0m",
      "\u001b[1;31mValueError\u001b[0m                                Traceback (most recent call last)",
      "\u001b[1;32m~\\AppData\\Local\\Temp/ipykernel_10784/19514927.py\u001b[0m in \u001b[0;36m<module>\u001b[1;34m\u001b[0m\n\u001b[0;32m      1\u001b[0m \u001b[1;31m# round predictions dict to 0 or 1\u001b[0m\u001b[1;33m\u001b[0m\u001b[1;33m\u001b[0m\u001b[1;33m\u001b[0m\u001b[0m\n\u001b[1;32m----> 2\u001b[1;33m \u001b[0mpredictions\u001b[0m \u001b[1;33m=\u001b[0m \u001b[1;33m{\u001b[0m\u001b[0mk\u001b[0m\u001b[1;33m:\u001b[0m \u001b[0mint\u001b[0m\u001b[1;33m(\u001b[0m\u001b[0mround\u001b[0m\u001b[1;33m(\u001b[0m\u001b[0mv\u001b[0m\u001b[1;33m)\u001b[0m\u001b[1;33m)\u001b[0m \u001b[1;32mfor\u001b[0m \u001b[0mk\u001b[0m\u001b[1;33m,\u001b[0m \u001b[0mv\u001b[0m \u001b[1;32min\u001b[0m \u001b[0mpredictions\u001b[0m\u001b[1;33m}\u001b[0m\u001b[1;33m\u001b[0m\u001b[1;33m\u001b[0m\u001b[0m\n\u001b[0m\u001b[0;32m      3\u001b[0m \u001b[0mpredictions\u001b[0m\u001b[1;33m\u001b[0m\u001b[1;33m\u001b[0m\u001b[0m\n",
      "\u001b[1;32m~\\AppData\\Local\\Temp/ipykernel_10784/19514927.py\u001b[0m in \u001b[0;36m<dictcomp>\u001b[1;34m(.0)\u001b[0m\n\u001b[0;32m      1\u001b[0m \u001b[1;31m# round predictions dict to 0 or 1\u001b[0m\u001b[1;33m\u001b[0m\u001b[1;33m\u001b[0m\u001b[1;33m\u001b[0m\u001b[0m\n\u001b[1;32m----> 2\u001b[1;33m \u001b[0mpredictions\u001b[0m \u001b[1;33m=\u001b[0m \u001b[1;33m{\u001b[0m\u001b[0mk\u001b[0m\u001b[1;33m:\u001b[0m \u001b[0mint\u001b[0m\u001b[1;33m(\u001b[0m\u001b[0mround\u001b[0m\u001b[1;33m(\u001b[0m\u001b[0mv\u001b[0m\u001b[1;33m)\u001b[0m\u001b[1;33m)\u001b[0m \u001b[1;32mfor\u001b[0m \u001b[0mk\u001b[0m\u001b[1;33m,\u001b[0m \u001b[0mv\u001b[0m \u001b[1;32min\u001b[0m \u001b[0mpredictions\u001b[0m\u001b[1;33m}\u001b[0m\u001b[1;33m\u001b[0m\u001b[1;33m\u001b[0m\u001b[0m\n\u001b[0m\u001b[0;32m      3\u001b[0m \u001b[0mpredictions\u001b[0m\u001b[1;33m\u001b[0m\u001b[1;33m\u001b[0m\u001b[0m\n",
      "\u001b[1;31mValueError\u001b[0m: too many values to unpack (expected 2)"
     ]
    }
   ],
   "source": [
    "# round predictions dict to 0 or 1\n",
    "predictions = {k: int(round(v)) for k, v in predictions}\n",
    "predictions\n"
   ]
  },
  {
   "cell_type": "code",
   "execution_count": 79,
   "metadata": {},
   "outputs": [
    {
     "data": {
      "text/plain": [
       "0.74"
      ]
     },
     "execution_count": 79,
     "metadata": {},
     "output_type": "execute_result"
    }
   ],
   "source": []
  },
  {
   "cell_type": "code",
   "execution_count": 80,
   "metadata": {},
   "outputs": [
    {
     "name": "stdout",
     "output_type": "stream",
     "text": [
      "Found 119974 images belonging to 2 classes.\n",
      "Found 119974 images belonging to 2 classes.\n",
      "Epoch 1/10\n",
      "3750/3750 [==============================] - 2942s 784ms/step - loss: 0.4463 - accuracy: 0.8100 - val_loss: 0.4052 - val_accuracy: 0.8183\n",
      "Epoch 2/10\n",
      "3750/3750 [==============================] - 2953s 787ms/step - loss: 0.4117 - accuracy: 0.8169 - val_loss: 0.3904 - val_accuracy: 0.8230\n",
      "Epoch 3/10\n",
      "3750/3750 [==============================] - 2953s 787ms/step - loss: 0.4010 - accuracy: 0.8198 - val_loss: 0.3888 - val_accuracy: 0.8233\n",
      "Epoch 4/10\n",
      "3750/3750 [==============================] - 2983s 795ms/step - loss: 0.3892 - accuracy: 0.8221 - val_loss: 0.3782 - val_accuracy: 0.8276\n",
      "Epoch 5/10\n",
      "3750/3750 [==============================] - 2971s 792ms/step - loss: 0.3800 - accuracy: 0.8245 - val_loss: 0.3732 - val_accuracy: 0.8189\n",
      "Epoch 6/10\n",
      "2448/3750 [==================>...........] - ETA: 12:29 - loss: 0.3763 - accuracy: 0.8259"
     ]
    }
   ],
   "source": [
    "deepfakedetection_128 = DeepFakeDetectionNeuralNetwork((150, 150, 3), 32)\n",
    "deepfakedetection_128.train_model(10)"
   ]
  }
 ],
 "metadata": {
  "interpreter": {
   "hash": "81794d4967e6c3204c66dcd87b604927b115b27c00565d3d43f05ba2f3a2cb0d"
  },
  "kernelspec": {
   "display_name": "Python 3.9.5 64-bit",
   "language": "python",
   "name": "python3"
  },
  "language_info": {
   "codemirror_mode": {
    "name": "ipython",
    "version": 3
   },
   "file_extension": ".py",
   "mimetype": "text/x-python",
   "name": "python",
   "nbconvert_exporter": "python",
   "pygments_lexer": "ipython3",
   "version": "3.9.5"
  },
  "orig_nbformat": 4
 },
 "nbformat": 4,
 "nbformat_minor": 2
}
