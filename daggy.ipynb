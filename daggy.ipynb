{
 "cells": [
  {
   "cell_type": "code",
   "execution_count": null,
   "metadata": {},
   "outputs": [],
   "source": [
    "import cv2 as cv\n",
    "import os\n",
    "import face_recognition"
   ]
  },
  {
   "cell_type": "code",
   "execution_count": null,
   "metadata": {},
   "outputs": [],
   "source": [
    "# \n",
    "def video_to_frames(path_to_videos_folder, path_to_frames_folder):\n",
    "    # Get all the video files in the er\n",
    "    videos = [os.path.join(path_to_videos_folder, vid) for vid in os.listdir(path_to_videos_folder) if vid.endswith('.mp4')]\n",
    "    for video in videos:\n",
    "        # Create a folder for each video\n",
    "        frames_folder = os.path.join(path_to_frames_folder, os.path.basename(video)[:-4])\n",
    "        if not os.path.isdir(frames_folder):\n",
    "            os.mkdir(frames_folder)\n",
    "        # Extract the frames\n",
    "        vid = cv.VideoCapture(path_to_videos_folder)\n",
    "        count = 0\n",
    "        while True:\n",
    "            count += 1\n",
    "            success, image = vid.read()\n",
    "            if not success:\n",
    "                break\n",
    "            cv.imwrite(os.path.join(frames_folder, \"frame{:d}.jpg\".format(count)), image)\n",
    "    return count"
   ]
  },
  {
   "cell_type": "code",
   "execution_count": null,
   "metadata": {},
   "outputs": [],
   "source": [
    "# Extract the faces from the video\n",
    "def extract_faces(path_to_frames_folder, path_to_faces_folder):\n",
    "    # Get all the folders in the frames_folder\n",
    "    folders = [os.path.join(path_to_frames_folder, f) for f in os.listdir(path_to_frames_folder) if os.path.isdir(os.path.join(path_to_frames_folder, f))]\n",
    "    for folder in folders:\n",
    "        # Create a folder for each video\n",
    "        faces_folder = os.path.join(path_to_faces_folder, os.path.basename(folder))\n",
    "        if not os.path.isdir(faces_folder):\n",
    "            os.mkdir(faces_folder)\n",
    "        # Get all the frames in the folder\n",
    "        frames = [os.path.join(folder, f) for f in os.listdir(folder) if f.endswith('.jpg')]\n",
    "        for frame in frames:\n",
    "            # Get the image\n",
    "            img = face_recognition.load_image_file(frame)\n",
    "            # Get the face locations\n",
    "            face_locations = face_recognition.face_locations(img)\n",
    "            # For each face in the image\n",
    "            for face_location in face_locations:\n",
    "                # Get the top, right, bottom, left\n",
    "                top, right, bottom, left = face_location\n",
    "                # Crop the face\n",
    "                face = img[top:bottom, left:right]\n",
    "                # Save the face\n",
    "                cv.imwrite(os.path.join(faces_folder, os.path.basename(frame)), face)\n"
   ]
  },
  {
   "cell_type": "code",
   "execution_count": null,
   "metadata": {},
   "outputs": [],
   "source": [
    "# Train the model"
   ]
  }
 ],
 "metadata": {
  "language_info": {
   "name": "python"
  },
  "orig_nbformat": 4
 },
 "nbformat": 4,
 "nbformat_minor": 2
}
