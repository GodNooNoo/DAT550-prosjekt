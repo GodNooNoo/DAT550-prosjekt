{
 "cells": [
  {
   "cell_type": "code",
   "execution_count": 35,
   "metadata": {},
   "outputs": [],
   "source": [
    "# TensorFlow and TF-Hub modules.\n",
    "from absl import logging\n",
    "\n",
    "import tensorflow as tf\n",
    "import tensorflow.keras as keras\n",
    "from tensorflow.keras.models import Sequential\n",
    "from tensorflow.keras.layers import Dense, Conv2D, Flatten, Dropout, MaxPooling2D\n",
    "from tensorflow.keras.preprocessing.image import ImageDataGenerator\n",
    "from tensorflow.keras.optimizers import Adam\n",
    "from tensorflow.keras.callbacks import ModelCheckpoint\n",
    "from tensorflow.keras.models import load_model\n",
    "\n",
    "\n",
    "logging.set_verbosity(logging.ERROR)\n",
    "\n",
    "# Some modules to help with reading the dataset.\n",
    "import pandas as pd\n",
    "import random\n",
    "import re\n",
    "import os\n",
    "import shutil\n",
    "import tempfile\n",
    "import ssl\n",
    "import cv2\n",
    "import numpy as np\n",
    "\n",
    "# Some modules to display an animation using imageio.\n",
    "import imageio\n",
    "from IPython import display\n",
    "\n",
    "from urllib import request  # requires python3"
   ]
  },
  {
   "cell_type": "code",
   "execution_count": 36,
   "metadata": {},
   "outputs": [],
   "source": [
    "# 2D Convolutional Neural Network.\n",
    "def cnn_model(input_shape):\n",
    "    model = Sequential()\n",
    "    model.add(Conv2D(32, (3, 3), activation='relu',\n",
    "                        input_shape=input_shape))\n",
    "    model.add(MaxPooling2D((2, 2)))\n",
    "    model.add(Conv2D(64, (3, 3), activation='relu'))\n",
    "    model.add(MaxPooling2D((2, 2)))\n",
    "    model.add(Conv2D(128, (3, 3), activation='relu'))\n",
    "    model.add(MaxPooling2D((2, 2)))\n",
    "    model.add(Flatten())\n",
    "    model.add(Dense(512, activation='relu'))    \n",
    "    model.add(Dropout(0.5))\n",
    "    model.add(Dense(1, activation='sigmoid'))\n",
    "    return model"
   ]
  },
  {
   "cell_type": "code",
   "execution_count": 37,
   "metadata": {},
   "outputs": [],
   "source": [
    "# Train the model.\n",
    "def train_model(model, epochs=5):\n",
    "\n",
    "    # Create the image generators\n",
    "    train_datagen = ImageDataGenerator(\n",
    "        rescale=1./255,\n",
    "        rotation_range=20,\n",
    "        width_shift_range=0.2,\n",
    "        height_shift_range=0.2,\n",
    "        shear_range=0.2,\n",
    "        zoom_range=0.2,\n",
    "        horizontal_flip=True,\n",
    "        fill_mode='nearest')\n",
    "    \n",
    "    val_datagen = ImageDataGenerator(rescale=1./255)\n",
    "    \n",
    "    # Create the image generators\n",
    "    train_generator = train_datagen.flow_from_directory(\n",
    "        'sample_set_faces/',  \n",
    "        target_size=(150, 150),\n",
    "        classes=['real', 'fake'],\n",
    "        batch_size=32,\n",
    "        class_mode='binary')\n",
    "    \n",
    "    val_generator = val_datagen.flow_from_directory(\n",
    "        'sample_set_faces/',  \n",
    "        target_size=(150, 150), \n",
    "        classes=['real', 'fake'],\n",
    "        batch_size=32,\n",
    "        class_mode='binary')\n",
    "    \n",
    "    # Train the model\n",
    "    model.compile(loss='binary_crossentropy',\n",
    "                    optimizer=Adam(lr=0.001),\n",
    "                    metrics=['accuracy'])\n",
    "    model.fit(\n",
    "        train_generator,\n",
    "        steps_per_epoch=25,\n",
    "        epochs=epochs,\n",
    "        validation_data=val_generator,\n",
    "        validation_steps=10) \n",
    "    \n",
    "    # Save the model\n",
    "    model.save(\"data/model.h5\")\n",
    "    # Return the model\n",
    "    return model"
   ]
  },
  {
   "cell_type": "code",
   "execution_count": 38,
   "metadata": {},
   "outputs": [
    {
     "name": "stdout",
     "output_type": "stream",
     "text": [
      "Found 1107 images belonging to 2 classes.\n",
      "Found 1107 images belonging to 2 classes.\n",
      "Epoch 1/5\n",
      "25/25 [==============================] - 13s 505ms/step - loss: 0.6454 - accuracy: 0.7205 - val_loss: 0.1587 - val_accuracy: 0.9875\n",
      "Epoch 2/5\n",
      "25/25 [==============================] - 13s 510ms/step - loss: 0.0963 - accuracy: 0.9848 - val_loss: 0.0151 - val_accuracy: 0.9969\n",
      "Epoch 3/5\n",
      "25/25 [==============================] - 13s 516ms/step - loss: 0.1058 - accuracy: 0.9784 - val_loss: 0.0748 - val_accuracy: 0.9844\n",
      "Epoch 4/5\n",
      "25/25 [==============================] - 13s 515ms/step - loss: 0.0604 - accuracy: 0.9850 - val_loss: 0.0387 - val_accuracy: 0.9969\n",
      "Epoch 5/5\n",
      "25/25 [==============================] - 13s 515ms/step - loss: 0.1101 - accuracy: 0.9809 - val_loss: 0.0505 - val_accuracy: 0.9937\n"
     ]
    }
   ],
   "source": [
    "model   = cnn_model((150, 150, 3))\n",
    "model   = train_model(model)"
   ]
  }
 ],
 "metadata": {
  "interpreter": {
   "hash": "81794d4967e6c3204c66dcd87b604927b115b27c00565d3d43f05ba2f3a2cb0d"
  },
  "kernelspec": {
   "display_name": "Python 3.9.5 64-bit",
   "language": "python",
   "name": "python3"
  },
  "language_info": {
   "codemirror_mode": {
    "name": "ipython",
    "version": 3
   },
   "file_extension": ".py",
   "mimetype": "text/x-python",
   "name": "python",
   "nbconvert_exporter": "python",
   "pygments_lexer": "ipython3",
   "version": "3.9.5"
  },
  "orig_nbformat": 4
 },
 "nbformat": 4,
 "nbformat_minor": 2
}
