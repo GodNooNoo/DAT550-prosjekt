{
 "cells": [
  {
   "cell_type": "code",
   "execution_count": null,
   "metadata": {},
   "outputs": [],
   "source": [
    "import pandas as pd\n",
    "import matplotlib\n",
    "from tensorflow.keras.models import Sequential\n",
    "from tensorflow.keras.layers import Dense, LSTM, Dropout\n",
    "from sklearn.metrics import classification_report, accuracy_score\n",
    "from imutils import paths\n",
    "import matplotlib.pyplot as plt\n",
    "import numpy as np\n",
    "import cv2\n",
    "import os\n",
    "import tensorflow as tf\n",
    "import keras"
   ]
  },
  {
   "cell_type": "code",
   "execution_count": null,
   "metadata": {},
   "outputs": [],
   "source": [
    "train_sample_metadata = pd.read_json('Data/train_sample_videos/metadata.json').T\n",
    "train_sample_metadata.head()"
   ]
  },
  {
   "cell_type": "code",
   "execution_count": null,
   "metadata": {},
   "outputs": [],
   "source": [
    "IMAGE_SIZE = (124,124)"
   ]
  },
  {
   "cell_type": "code",
   "execution_count": null,
   "metadata": {},
   "outputs": [],
   "source": [
    "def load_data(dir):\n",
    "    categories = ['fake','real']\n",
    "    images = []\n",
    "    labels = []\n",
    "    for i,category in enumerate(categories):\n",
    "        path = os.path.join(dir,category)\n",
    "        label = i\n",
    "        for folder in os.listdir(path):\n",
    "            for file in os.listdir(os.path.join(path,folder)):\n",
    "                img_path = os.path.join(os.path.join(path,folder),file)\n",
    "                image = cv2.imread(img_path,0)\n",
    "                image = cv2.resize(image, IMAGE_SIZE)\n",
    "                images.append(image)\n",
    "                labels.append(label)\n",
    "    images = np.array(images, dtype='float32')\n",
    "    labels = np.array(labels, dtype= 'int32')\n",
    "    return (images,labels)"
   ]
  },
  {
   "cell_type": "code",
   "execution_count": null,
   "metadata": {},
   "outputs": [],
   "source": [
    "dir = '/Users/audunlien/Documents/DAT550/DAT550-prosjekt/Data/train/train'\n",
    "(train_x,train_y) = load_data(dir)"
   ]
  },
  {
   "cell_type": "code",
   "execution_count": null,
   "metadata": {},
   "outputs": [],
   "source": [
    "dir = '/Users/audunlien/Documents/DAT550/DAT550-prosjekt/Data/test_set/test_set'\n",
    "(test_x,test_y) = load_data(dir)"
   ]
  },
  {
   "cell_type": "code",
   "execution_count": null,
   "metadata": {},
   "outputs": [],
   "source": [
    "from sklearn.utils import shuffle\n",
    "train_x, train_y = shuffle(train_x, train_y, random_state=0)"
   ]
  },
  {
   "cell_type": "code",
   "execution_count": null,
   "metadata": {},
   "outputs": [],
   "source": [
    "from sklearn.utils import shuffle\n",
    "test_x, test_y = shuffle(test_x, test_y, random_state=0)"
   ]
  },
  {
   "cell_type": "code",
   "execution_count": 26,
   "metadata": {},
   "outputs": [
    {
     "name": "stdout",
     "output_type": "stream",
     "text": [
      "WARNING:tensorflow:Layer lstm_8 will not use cuDNN kernels since it doesn't meet the criteria. It will use a generic GPU kernel as fallback when running on GPU.\n",
      "WARNING:tensorflow:Layer lstm_9 will not use cuDNN kernels since it doesn't meet the criteria. It will use a generic GPU kernel as fallback when running on GPU.\n",
      "WARNING:tensorflow:Layer lstm_10 will not use cuDNN kernels since it doesn't meet the criteria. It will use a generic GPU kernel as fallback when running on GPU.\n"
     ]
    }
   ],
   "source": [
    "rnn = Sequential()\n",
    "rnn.add(LSTM(128, input_shape=(124,124), activation='relu', return_sequences=True))\n",
    "rnn.add(Dropout(0.2))\n",
    "\n",
    "rnn.add(LSTM(64, activation='relu',return_sequences=True))\n",
    "rnn.add(Dropout(0.2))\n",
    "rnn.add(LSTM(64, activation='relu'))\n",
    "rnn.add(Dropout(0.2))\n",
    "rnn.add(Dense(32, activation='softmax'))\n",
    "rnn.add(Dropout(0.2))\n",
    "\n",
    "rnn.add(Dense(1, activation='sigmoid'))\n",
    "#softmax"
   ]
  },
  {
   "cell_type": "code",
   "execution_count": 27,
   "metadata": {},
   "outputs": [],
   "source": [
    "opt = tf.keras.optimizers.Adam(learning_rate=0.0001, decay=1e-6)\n",
    "rnn.compile(\n",
    "    loss='categorical_crossentropy',\n",
    "    optimizer=opt,\n",
    "    metrics=[\"accuracy\"],\n",
    ")\n"
   ]
  },
  {
   "cell_type": "code",
   "execution_count": null,
   "metadata": {},
   "outputs": [],
   "source": [
    "epochs = 30\n",
    "batches = 128"
   ]
  },
  {
   "cell_type": "code",
   "execution_count": null,
   "metadata": {},
   "outputs": [],
   "source": [
    "total_train_batches = len(train_x)//batches\n",
    "total_val_batches = len(test_x)//batches"
   ]
  },
  {
   "cell_type": "code",
   "execution_count": null,
   "metadata": {},
   "outputs": [],
   "source": [
    "with tf.device('/cpu:0'):\n",
    "    history = rnn.fit(train_x,train_y,\n",
    "            epochs=epochs,\n",
    "            steps_per_epoch= total_train_batches,\n",
    "            validation_data=(test_x,test_y),\n",
    "            validation_steps=total_val_batches,\n",
    "            batch_size= batches,\n",
    "            )"
   ]
  },
  {
   "cell_type": "code",
   "execution_count": null,
   "metadata": {},
   "outputs": [],
   "source": [
    "rnn.save('my_model_2.h5')  # creates a HDF5 file 'my_model.h5'"
   ]
  },
  {
   "cell_type": "code",
   "execution_count": null,
   "metadata": {},
   "outputs": [],
   "source": [
    "print(\"[INFO] evaluating network...\")\n",
    "predIdxs = rnn.predict(test_x, batch_size=128)\n",
    "predIdx = np.round(predIdxs).astype(int)\n",
    "# show a nicely formatted classification report\n",
    "print(classification_report(test_y, predIdx,target_names=['fake','real']))\n",
    "\n"
   ]
  },
  {
   "cell_type": "code",
   "execution_count": null,
   "metadata": {},
   "outputs": [],
   "source": [
    "accuracy_score(test_y, predIdx) "
   ]
  },
  {
   "cell_type": "code",
   "execution_count": null,
   "metadata": {},
   "outputs": [],
   "source": [
    "import keras\n",
    "from matplotlib import pyplot as plt\n",
    "%matplotlib inline\n",
    "plt.plot(history.history['accuracy'])\n",
    "plt.plot(history.history['val_accuracy'])\n",
    "plt.title('model accuracy')\n",
    "plt.ylabel('accuracy')\n",
    "plt.xlabel('epoch')\n",
    "plt.legend(['train', 'val'], loc='upper left')\n",
    "plt.show()"
   ]
  },
  {
   "cell_type": "code",
   "execution_count": null,
   "metadata": {},
   "outputs": [],
   "source": [
    "plt.plot(history.history['loss'])\n",
    "plt.plot(history.history['val_loss'])\n",
    "plt.title('model loss')\n",
    "plt.ylabel('loss')\n",
    "plt.xlabel('epoch')\n",
    "plt.legend(['train', 'val'], loc='upper left')\n",
    "plt.show()"
   ]
  }
 ],
 "metadata": {
  "interpreter": {
   "hash": "f5986018b863956804bf7277330effb330965162b5e12e14637fe141d86e0edf"
  },
  "kernelspec": {
   "display_name": "Python 3.9.10 64-bit ('base': conda)",
   "name": "python3"
  },
  "language_info": {
   "codemirror_mode": {
    "name": "ipython",
    "version": 3
   },
   "file_extension": ".py",
   "mimetype": "text/x-python",
   "name": "python",
   "nbconvert_exporter": "python",
   "pygments_lexer": "ipython3",
   "version": "3.9.12"
  },
  "orig_nbformat": 4
 },
 "nbformat": 4,
 "nbformat_minor": 2
}